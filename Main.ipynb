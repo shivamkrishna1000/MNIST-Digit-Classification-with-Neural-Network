{
  "nbformat": 4,
  "nbformat_minor": 0,
  "metadata": {
    "colab": {
      "provenance": [],
      "authorship_tag": "ABX9TyNzo8dJlK/w5+U2HKu5g56L",
      "include_colab_link": true
    },
    "kernelspec": {
      "name": "python3",
      "display_name": "Python 3"
    },
    "language_info": {
      "name": "python"
    }
  },
  "cells": [
    {
      "cell_type": "markdown",
      "metadata": {
        "id": "view-in-github",
        "colab_type": "text"
      },
      "source": [
        "<a href=\"https://colab.research.google.com/github/shivamkrishna1000/MNIST-Digit-Classification-with-Neural-Network/blob/main/Main.ipynb\" target=\"_parent\"><img src=\"https://colab.research.google.com/assets/colab-badge.svg\" alt=\"Open In Colab\"/></a>"
      ]
    },
    {
      "cell_type": "markdown",
      "source": [
        "Importing Dependencies"
      ],
      "metadata": {
        "id": "AwsFzAyM2k-H"
      }
    },
    {
      "cell_type": "code",
      "source": [
        "import numpy as np\n",
        "import pandas as pd\n",
        "import matplotlib.pyplot as plt\n",
        "import seaborn as sns\n",
        "import cv2\n",
        "from google.colab.patches import cv2_imshow\n",
        "from PIL import Image\n",
        "import tensorflow as tf\n",
        "tf.random.set_seed(3)\n",
        "from tensorflow import keras\n",
        "from keras.datasets import mnist\n",
        "from tensorflow.math import confusion_matrix"
      ],
      "metadata": {
        "id": "Dp_iDqMi27z5"
      },
      "execution_count": 1,
      "outputs": []
    },
    {
      "cell_type": "markdown",
      "source": [
        "Loading the MNIST data from keras.datasets"
      ],
      "metadata": {
        "id": "9BnOqJdM307T"
      }
    },
    {
      "cell_type": "code",
      "source": [
        "(xtrain,ytrain), (xtest,ytest)=mnist.load_data()"
      ],
      "metadata": {
        "colab": {
          "base_uri": "https://localhost:8080/"
        },
        "id": "zNLtgwPG3x15",
        "outputId": "a494ebe8-c95a-4e5d-f326-ff681eef81f0"
      },
      "execution_count": 2,
      "outputs": [
        {
          "output_type": "stream",
          "name": "stdout",
          "text": [
            "Downloading data from https://storage.googleapis.com/tensorflow/tf-keras-datasets/mnist.npz\n",
            "11490434/11490434 [==============================] - 0s 0us/step\n"
          ]
        }
      ]
    },
    {
      "cell_type": "code",
      "source": [
        "type(xtrain)"
      ],
      "metadata": {
        "colab": {
          "base_uri": "https://localhost:8080/"
        },
        "id": "aS2_hKhHA2vL",
        "outputId": "e1239f21-631a-432a-ffdc-78b9e3c36dc0"
      },
      "execution_count": 3,
      "outputs": [
        {
          "output_type": "execute_result",
          "data": {
            "text/plain": [
              "numpy.ndarray"
            ]
          },
          "metadata": {},
          "execution_count": 3
        }
      ]
    },
    {
      "cell_type": "code",
      "source": [
        "print(xtrain.shape,ytrain.shape,xtest.shape,ytest.shape)"
      ],
      "metadata": {
        "colab": {
          "base_uri": "https://localhost:8080/"
        },
        "id": "tWKf8uJRA9T0",
        "outputId": "169e5619-c6fe-4fd6-fae2-f9cf1dcb9fb6"
      },
      "execution_count": 4,
      "outputs": [
        {
          "output_type": "stream",
          "name": "stdout",
          "text": [
            "(60000, 28, 28) (60000,) (10000, 28, 28) (10000,)\n"
          ]
        }
      ]
    },
    {
      "cell_type": "code",
      "source": [
        "print(xtrain[10])"
      ],
      "metadata": {
        "colab": {
          "base_uri": "https://localhost:8080/"
        },
        "id": "Zo-gNWE6BIZI",
        "outputId": "2320bc3f-29f6-42d9-c3ad-d850612625ab"
      },
      "execution_count": 5,
      "outputs": [
        {
          "output_type": "stream",
          "name": "stdout",
          "text": [
            "[[  0   0   0   0   0   0   0   0   0   0   0   0   0   0   0   0   0   0\n",
            "    0   0   0   0   0   0   0   0   0   0]\n",
            " [  0   0   0   0   0   0   0   0   0   0   0   0   0   0   0   0   0   0\n",
            "    0   0   0   0   0   0   0   0   0   0]\n",
            " [  0   0   0   0   0   0   0   0   0   0   0   0   0   0   0   0   0   0\n",
            "    0   0   0   0   0   0   0   0   0   0]\n",
            " [  0   0   0   0   0   0   0   0   0   0   0   0   0   0   0   0   0   0\n",
            "    0   0   0   0   0   0   0   0   0   0]\n",
            " [  0   0   0   0   0   0   0   0   0   0   0  42 118 219 166 118 118   6\n",
            "    0   0   0   0   0   0   0   0   0   0]\n",
            " [  0   0   0   0   0   0   0   0   0   0 103 242 254 254 254 254 254  66\n",
            "    0   0   0   0   0   0   0   0   0   0]\n",
            " [  0   0   0   0   0   0   0   0   0   0  18 232 254 254 254 254 254 238\n",
            "   70   0   0   0   0   0   0   0   0   0]\n",
            " [  0   0   0   0   0   0   0   0   0   0   0 104 244 254 224 254 254 254\n",
            "  141   0   0   0   0   0   0   0   0   0]\n",
            " [  0   0   0   0   0   0   0   0   0   0   0   0 207 254 210 254 254 254\n",
            "   34   0   0   0   0   0   0   0   0   0]\n",
            " [  0   0   0   0   0   0   0   0   0   0   0   0  84 206 254 254 254 254\n",
            "   41   0   0   0   0   0   0   0   0   0]\n",
            " [  0   0   0   0   0   0   0   0   0   0   0   0   0  24 209 254 254 254\n",
            "  171   0   0   0   0   0   0   0   0   0]\n",
            " [  0   0   0   0   0   0   0   0   0   0   0   0  91 137 253 254 254 254\n",
            "  112   0   0   0   0   0   0   0   0   0]\n",
            " [  0   0   0   0   0   0   0   0   0   0  40 214 250 254 254 254 254 254\n",
            "   34   0   0   0   0   0   0   0   0   0]\n",
            " [  0   0   0   0   0   0   0   0   0   0  81 247 254 254 254 254 254 254\n",
            "  146   0   0   0   0   0   0   0   0   0]\n",
            " [  0   0   0   0   0   0   0   0   0   0   0 110 246 254 254 254 254 254\n",
            "  171   0   0   0   0   0   0   0   0   0]\n",
            " [  0   0   0   0   0   0   0   0   0   0   0   0  73  89  89  93 240 254\n",
            "  171   0   0   0   0   0   0   0   0   0]\n",
            " [  0   0   0   0   0   0   0   0   0   0   0   0   0   0   0   1 128 254\n",
            "  219  31   0   0   0   0   0   0   0   0]\n",
            " [  0   0   0   0   0   0   0   0   0   0   0   0   0   0   0   7 254 254\n",
            "  214  28   0   0   0   0   0   0   0   0]\n",
            " [  0   0   0   0   0   0   0   0   0   0   0   0   0   0   0 138 254 254\n",
            "  116   0   0   0   0   0   0   0   0   0]\n",
            " [  0   0   0   0   0   0  19 177  90   0   0   0   0   0  25 240 254 254\n",
            "   34   0   0   0   0   0   0   0   0   0]\n",
            " [  0   0   0   0   0   0 164 254 215  63  36   0  51  89 206 254 254 139\n",
            "    8   0   0   0   0   0   0   0   0   0]\n",
            " [  0   0   0   0   0   0  57 197 254 254 222 180 241 254 254 253 213  11\n",
            "    0   0   0   0   0   0   0   0   0   0]\n",
            " [  0   0   0   0   0   0   0 140 105 254 254 254 254 254 254 236   0   0\n",
            "    0   0   0   0   0   0   0   0   0   0]\n",
            " [  0   0   0   0   0   0   0   0   7 117 117 165 254 254 239  50   0   0\n",
            "    0   0   0   0   0   0   0   0   0   0]\n",
            " [  0   0   0   0   0   0   0   0   0   0   0   0   0   0   0   0   0   0\n",
            "    0   0   0   0   0   0   0   0   0   0]\n",
            " [  0   0   0   0   0   0   0   0   0   0   0   0   0   0   0   0   0   0\n",
            "    0   0   0   0   0   0   0   0   0   0]\n",
            " [  0   0   0   0   0   0   0   0   0   0   0   0   0   0   0   0   0   0\n",
            "    0   0   0   0   0   0   0   0   0   0]\n",
            " [  0   0   0   0   0   0   0   0   0   0   0   0   0   0   0   0   0   0\n",
            "    0   0   0   0   0   0   0   0   0   0]]\n"
          ]
        }
      ]
    },
    {
      "cell_type": "code",
      "source": [
        "print(xtrain[10].shape)"
      ],
      "metadata": {
        "colab": {
          "base_uri": "https://localhost:8080/"
        },
        "id": "pSxhQRxZBxql",
        "outputId": "1049d38d-1bc4-41d0-b39f-0866c247e0cf"
      },
      "execution_count": 6,
      "outputs": [
        {
          "output_type": "stream",
          "name": "stdout",
          "text": [
            "(28, 28)\n"
          ]
        }
      ]
    },
    {
      "cell_type": "code",
      "source": [
        "#displaying the image\n",
        "\n",
        "plt.imshow(xtrain[100])\n",
        "plt.show()\n",
        "\n",
        "print(ytrain[100])"
      ],
      "metadata": {
        "colab": {
          "base_uri": "https://localhost:8080/",
          "height": 447
        },
        "id": "kbhA3NBEB3Dx",
        "outputId": "ca2c8562-d25e-4898-b7bb-a9a979ec9b6a"
      },
      "execution_count": 7,
      "outputs": [
        {
          "output_type": "display_data",
          "data": {
            "text/plain": [
              "<Figure size 640x480 with 1 Axes>"
            ],
            "image/png": "[encoded data removed]"
          },
          "metadata": {}
        },
        {
          "output_type": "stream",
          "name": "stdout",
          "text": [
            "5\n"
          ]
        }
      ]
    },
    {
      "cell_type": "code",
      "source": [
        "#unique values in ytrain\n",
        "print(np.unique(ytrain))\n",
        "\n",
        "\n",
        "#unique values in ytest\n",
        "print(np.unique(ytest))"
      ],
      "metadata": {
        "colab": {
          "base_uri": "https://localhost:8080/"
        },
        "id": "-4mrFChhB9FJ",
        "outputId": "9a89a723-ce99-43f6-fc6c-68d6fc73418b"
      },
      "execution_count": 8,
      "outputs": [
        {
          "output_type": "stream",
          "name": "stdout",
          "text": [
            "[0 1 2 3 4 5 6 7 8 9]\n",
            "[0 1 2 3 4 5 6 7 8 9]\n"
          ]
        }
      ]
    },
    {
      "cell_type": "code",
      "source": [
        "#scaling the values\n",
        "xtrain=xtrain/255\n",
        "xtest=xtest/25"
      ],
      "metadata": {
        "id": "D2IjFCRHCx-b"
      },
      "execution_count": 9,
      "outputs": []
    },
    {
      "cell_type": "code",
      "source": [
        "#displaying the image\n",
        "\n",
        "plt.imshow(xtrain[100])\n",
        "plt.show()\n",
        "\n",
        "print(ytrain[100])"
      ],
      "metadata": {
        "colab": {
          "base_uri": "https://localhost:8080/",
          "height": 447
        },
        "id": "bdre9ssND62j",
        "outputId": "8f0d4f01-919a-45f4-8aaa-999831b88a10"
      },
      "execution_count": 10,
      "outputs": [
        {
          "output_type": "display_data",
          "data": {
            "text/plain": [
              "<Figure size 640x480 with 1 Axes>"
            ],
            "image/png": "[encoded data removed]"
          },
          "metadata": {}
        },
        {
          "output_type": "stream",
          "name": "stdout",
          "text": [
            "5\n"
          ]
        }
      ]
    },
    {
      "cell_type": "code",
      "source": [
        "print(xtrain[100])"
      ],
      "metadata": {
        "colab": {
          "base_uri": "https://localhost:8080/"
        },
        "id": "NQ6PuHc5EBFg",
        "outputId": "13a0c13f-c080-476f-93f3-c4df9277ec62"
      },
      "execution_count": 11,
      "outputs": [
        {
          "output_type": "stream",
          "name": "stdout",
          "text": [
            "[[0.         0.         0.         0.         0.         0.\n",
            "  0.         0.         0.         0.         0.         0.\n",
            "  0.         0.         0.         0.         0.         0.\n",
            "  0.         0.         0.         0.         0.         0.\n",
            "  0.         0.         0.         0.        ]\n",
            " [0.         0.         0.         0.         0.         0.\n",
            "  0.         0.         0.         0.         0.         0.\n",
            "  0.         0.         0.         0.         0.         0.\n",
            "  0.         0.         0.         0.         0.         0.\n",
            "  0.         0.         0.         0.        ]\n",
            " [0.         0.         0.         0.         0.         0.\n",
            "  0.         0.         0.         0.         0.         0.\n",
            "  0.         0.         0.         0.         0.         0.\n",
            "  0.         0.         0.         0.         0.         0.\n",
            "  0.         0.         0.         0.        ]\n",
            " [0.         0.         0.         0.         0.         0.\n",
            "  0.         0.         0.         0.         0.         0.\n",
            "  0.         0.         0.         0.         0.         0.\n",
            "  0.         0.         0.         0.         0.         0.\n",
            "  0.         0.         0.         0.        ]\n",
            " [0.         0.         0.         0.         0.         0.\n",
            "  0.         0.         0.         0.         0.         0.\n",
            "  0.         0.         0.         0.         0.         0.\n",
            "  0.         0.         0.         0.         0.         0.\n",
            "  0.         0.         0.         0.        ]\n",
            " [0.         0.         0.         0.         0.         0.\n",
            "  0.         0.         0.         0.         0.         0.\n",
            "  0.         0.         0.         0.         0.         0.\n",
            "  0.         0.         0.         0.         0.         0.\n",
            "  0.         0.         0.         0.        ]\n",
            " [0.         0.         0.         0.         0.         0.\n",
            "  0.         0.         0.         0.         0.         0.\n",
            "  0.         0.00784314 0.07058824 0.18039216 0.53333333 0.53333333\n",
            "  0.95686275 1.         0.94509804 0.40392157 0.         0.\n",
            "  0.         0.         0.         0.        ]\n",
            " [0.         0.         0.         0.         0.         0.\n",
            "  0.         0.         0.         0.         0.         0.05882353\n",
            "  0.36862745 0.63921569 0.99215686 0.99215686 0.99215686 0.99215686\n",
            "  0.93333333 0.85490196 0.8        0.1372549  0.         0.\n",
            "  0.         0.         0.         0.        ]\n",
            " [0.         0.         0.         0.         0.         0.\n",
            "  0.         0.         0.         0.         0.         0.51372549\n",
            "  0.99215686 0.99215686 0.99215686 0.99215686 0.92941176 0.78431373\n",
            "  0.22352941 0.         0.         0.         0.         0.\n",
            "  0.         0.         0.         0.        ]\n",
            " [0.         0.         0.         0.         0.         0.\n",
            "  0.         0.         0.         0.         0.60784314 0.96470588\n",
            "  0.99215686 0.96862745 0.42352941 0.25490196 0.17647059 0.\n",
            "  0.         0.         0.         0.         0.         0.\n",
            "  0.         0.         0.         0.        ]\n",
            " [0.         0.         0.         0.         0.         0.\n",
            "  0.         0.         0.         0.         0.81176471 0.99215686\n",
            "  0.99215686 0.90196078 0.         0.         0.         0.\n",
            "  0.         0.         0.         0.         0.         0.\n",
            "  0.         0.         0.         0.        ]\n",
            " [0.         0.         0.         0.         0.         0.\n",
            "  0.         0.         0.         0.         0.61568627 0.99215686\n",
            "  0.99215686 0.49019608 0.         0.         0.         0.\n",
            "  0.         0.         0.         0.         0.         0.\n",
            "  0.         0.         0.         0.        ]\n",
            " [0.         0.         0.         0.         0.         0.\n",
            "  0.         0.         0.         0.         0.34901961 0.99215686\n",
            "  0.98039216 0.22352941 0.         0.         0.         0.\n",
            "  0.         0.         0.         0.         0.         0.\n",
            "  0.         0.         0.         0.        ]\n",
            " [0.         0.         0.         0.         0.         0.\n",
            "  0.         0.         0.         0.         0.34901961 0.99215686\n",
            "  0.96862745 0.         0.         0.         0.         0.\n",
            "  0.         0.         0.         0.         0.         0.\n",
            "  0.         0.         0.         0.        ]\n",
            " [0.         0.         0.         0.         0.         0.\n",
            "  0.         0.         0.         0.         0.34901961 0.99215686\n",
            "  0.96862745 0.         0.         0.         0.         0.\n",
            "  0.         0.         0.         0.         0.         0.\n",
            "  0.         0.         0.         0.        ]\n",
            " [0.         0.         0.         0.         0.         0.\n",
            "  0.         0.         0.         0.         0.34901961 0.99215686\n",
            "  0.96862745 0.         0.         0.         0.         0.\n",
            "  0.         0.         0.         0.         0.         0.\n",
            "  0.         0.         0.         0.        ]\n",
            " [0.         0.         0.         0.         0.         0.\n",
            "  0.         0.         0.         0.         0.08235294 0.90588235\n",
            "  0.97647059 0.13333333 0.         0.         0.         0.\n",
            "  0.         0.         0.         0.         0.         0.\n",
            "  0.         0.         0.         0.        ]\n",
            " [0.         0.         0.         0.         0.         0.\n",
            "  0.         0.         0.         0.         0.         0.88235294\n",
            "  0.99215686 0.90588235 0.83529412 0.83529412 0.48235294 0.0627451\n",
            "  0.         0.         0.         0.         0.         0.\n",
            "  0.         0.         0.         0.        ]\n",
            " [0.         0.         0.         0.         0.         0.\n",
            "  0.         0.         0.         0.         0.         0.6745098\n",
            "  0.99215686 0.99215686 0.99215686 0.99215686 0.99215686 0.74509804\n",
            "  0.24705882 0.         0.         0.         0.         0.\n",
            "  0.         0.         0.         0.        ]\n",
            " [0.         0.         0.         0.         0.         0.\n",
            "  0.         0.         0.         0.         0.         0.00784314\n",
            "  0.45490196 0.28235294 0.48627451 0.81960784 0.99215686 0.99215686\n",
            "  0.55294118 0.         0.         0.         0.         0.\n",
            "  0.         0.         0.         0.        ]\n",
            " [0.         0.         0.         0.         0.         0.\n",
            "  0.         0.         0.         0.         0.         0.\n",
            "  0.         0.         0.         0.09803922 0.85882353 0.99215686\n",
            "  0.80784314 0.01176471 0.         0.         0.         0.\n",
            "  0.         0.         0.         0.        ]\n",
            " [0.         0.         0.         0.         0.         0.\n",
            "  0.         0.         0.         0.         0.         0.\n",
            "  0.         0.         0.         0.         0.40784314 0.96470588\n",
            "  0.99215686 0.01960784 0.         0.         0.         0.\n",
            "  0.         0.         0.         0.        ]\n",
            " [0.         0.         0.         0.         0.         0.\n",
            "  0.         0.         0.         0.         0.         0.\n",
            "  0.         0.         0.         0.         0.         0.83529412\n",
            "  0.99215686 0.01960784 0.         0.         0.         0.\n",
            "  0.         0.         0.         0.        ]\n",
            " [0.         0.         0.         0.         0.         0.\n",
            "  0.         0.         0.         0.         0.         0.\n",
            "  0.         0.         0.         0.         0.10196078 0.88627451\n",
            "  0.99215686 0.01960784 0.         0.         0.         0.\n",
            "  0.         0.         0.         0.        ]\n",
            " [0.         0.         0.         0.         0.         0.\n",
            "  0.         0.         0.         0.         0.         0.\n",
            "  0.         0.         0.         0.         0.51764706 0.99215686\n",
            "  0.81960784 0.01176471 0.         0.         0.         0.\n",
            "  0.         0.         0.         0.        ]\n",
            " [0.         0.         0.         0.         0.         0.\n",
            "  0.         0.         0.         0.         0.         0.\n",
            "  0.         0.         0.         0.         0.30588235 0.99215686\n",
            "  0.3372549  0.         0.         0.         0.         0.\n",
            "  0.         0.         0.         0.        ]\n",
            " [0.         0.         0.         0.         0.         0.\n",
            "  0.         0.         0.         0.         0.         0.\n",
            "  0.         0.         0.         0.         0.         0.\n",
            "  0.         0.         0.         0.         0.         0.\n",
            "  0.         0.         0.         0.        ]\n",
            " [0.         0.         0.         0.         0.         0.\n",
            "  0.         0.         0.         0.         0.         0.\n",
            "  0.         0.         0.         0.         0.         0.\n",
            "  0.         0.         0.         0.         0.         0.\n",
            "  0.         0.         0.         0.        ]]\n"
          ]
        }
      ]
    },
    {
      "cell_type": "markdown",
      "source": [
        "Building the Neural Network"
      ],
      "metadata": {
        "id": "XBzc_hNgELjy"
      }
    },
    {
      "cell_type": "code",
      "source": [
        "model=keras.Sequential([\n",
        "    keras.layers.Flatten(input_shape=(28,28)),\n",
        "    keras.layers.Dense(50,activation='relu'),\n",
        "    keras.layers.Dense(50,activation='relu'),\n",
        "    keras.layers.Dense(10,activation='sigmoid')\n",
        "])"
      ],
      "metadata": {
        "id": "hmJAUoJ6EHmh"
      },
      "execution_count": 12,
      "outputs": []
    },
    {
      "cell_type": "code",
      "source": [
        "#compiling the nueral network\n",
        "model.compile(optimizer='adam',\n",
        "              loss='sparse_categorical_crossentropy',\n",
        "              metrics=['accuracy']\n",
        "              )"
      ],
      "metadata": {
        "id": "n6p89OhVFIK0"
      },
      "execution_count": 13,
      "outputs": []
    },
    {
      "cell_type": "code",
      "source": [
        "model.fit(xtrain,ytrain,epochs=10)"
      ],
      "metadata": {
        "colab": {
          "base_uri": "https://localhost:8080/"
        },
        "id": "kkgL2Om6EWG_",
        "outputId": "200d3497-d5e2-4310-83da-5077aea258bd"
      },
      "execution_count": 14,
      "outputs": [
        {
          "output_type": "stream",
          "name": "stdout",
          "text": [
            "Epoch 1/10\n",
            "1875/1875 [==============================] - 6s 2ms/step - loss: 0.3054 - accuracy: 0.9121\n",
            "Epoch 2/10\n",
            "1875/1875 [==============================] - 7s 4ms/step - loss: 0.1455 - accuracy: 0.9570\n",
            "Epoch 3/10\n",
            "1875/1875 [==============================] - 5s 3ms/step - loss: 0.1072 - accuracy: 0.9675\n",
            "Epoch 4/10\n",
            "1875/1875 [==============================] - 5s 3ms/step - loss: 0.0873 - accuracy: 0.9735\n",
            "Epoch 5/10\n",
            "1875/1875 [==============================] - 4s 2ms/step - loss: 0.0713 - accuracy: 0.9779\n",
            "Epoch 6/10\n",
            "1875/1875 [==============================] - 4s 2ms/step - loss: 0.0626 - accuracy: 0.9798\n",
            "Epoch 7/10\n",
            "1875/1875 [==============================] - 5s 3ms/step - loss: 0.0550 - accuracy: 0.9823\n",
            "Epoch 8/10\n",
            "1875/1875 [==============================] - 5s 2ms/step - loss: 0.0479 - accuracy: 0.9851\n",
            "Epoch 9/10\n",
            "1875/1875 [==============================] - 4s 2ms/step - loss: 0.0423 - accuracy: 0.9862\n",
            "Epoch 10/10\n",
            "1875/1875 [==============================] - 5s 2ms/step - loss: 0.0374 - accuracy: 0.9879\n"
          ]
        },
        {
          "output_type": "execute_result",
          "data": {
            "text/plain": [
              "<keras.src.callbacks.History at 0x7f87c36cbbe0>"
            ]
          },
          "metadata": {},
          "execution_count": 14
        }
      ]
    },
    {
      "cell_type": "code",
      "source": [
        "loss, accuracy=model.evaluate(xtest,ytest)\n",
        "print(accuracy)"
      ],
      "metadata": {
        "colab": {
          "base_uri": "https://localhost:8080/"
        },
        "id": "BteBoQ1JEhJ0",
        "outputId": "7a669b22-993d-44d0-e525-a6d48d68bfea"
      },
      "execution_count": 16,
      "outputs": [
        {
          "output_type": "stream",
          "name": "stdout",
          "text": [
            "313/313 [==============================] - 1s 2ms/step - loss: 0.8106 - accuracy: 0.9719\n",
            "0.9718999862670898\n"
          ]
        }
      ]
    },
    {
      "cell_type": "code",
      "source": [
        "plt.imshow(xtest[10])\n",
        "plt.show()"
      ],
      "metadata": {
        "colab": {
          "base_uri": "https://localhost:8080/",
          "height": 430
        },
        "id": "j2nf5psMH7XS",
        "outputId": "0082aa27-89bb-4ee2-c091-8c21cf09498b"
      },
      "execution_count": 23,
      "outputs": [
        {
          "output_type": "display_data",
          "data": {
            "text/plain": [
              "<Figure size 640x480 with 1 Axes>"
            ],
            "image/png": "[encoded data removed]"
          },
          "metadata": {}
        }
      ]
    },
    {
      "cell_type": "code",
      "source": [
        "print(ytest[10])"
      ],
      "metadata": {
        "colab": {
          "base_uri": "https://localhost:8080/"
        },
        "id": "o_iGb2gRIXBO",
        "outputId": "850e1667-249a-4d0c-cf53-54e2758594a8"
      },
      "execution_count": 24,
      "outputs": [
        {
          "output_type": "stream",
          "name": "stdout",
          "text": [
            "0\n"
          ]
        }
      ]
    },
    {
      "cell_type": "code",
      "source": [
        "ypred=model.predict(xtest)"
      ],
      "metadata": {
        "colab": {
          "base_uri": "https://localhost:8080/"
        },
        "id": "vIFuub64IZck",
        "outputId": "baf9531c-b09b-4cf7-dcd8-5f7bb104e777"
      },
      "execution_count": 25,
      "outputs": [
        {
          "output_type": "stream",
          "name": "stdout",
          "text": [
            "313/313 [==============================] - 0s 2ms/step\n"
          ]
        }
      ]
    },
    {
      "cell_type": "code",
      "source": [
        "print(ypred[10])"
      ],
      "metadata": {
        "colab": {
          "base_uri": "https://localhost:8080/"
        },
        "id": "TTHZdadQIfcQ",
        "outputId": "1c04b760-8afe-4035-f2e9-08118d5537d7"
      },
      "execution_count": 30,
      "outputs": [
        {
          "output_type": "stream",
          "name": "stdout",
          "text": [
            "[1.0000000e+00 0.0000000e+00 1.0146851e-04 6.2454408e-23 0.0000000e+00\n",
            " 6.2793263e-27 5.9519284e-13 1.2468529e-08 1.8380149e-27 5.9421176e-01]\n"
          ]
        }
      ]
    },
    {
      "cell_type": "code",
      "source": [
        "print(np.argmax(ypred[10]))"
      ],
      "metadata": {
        "colab": {
          "base_uri": "https://localhost:8080/"
        },
        "id": "vdDq767iIktZ",
        "outputId": "911b7ecc-ece3-4402-add2-8625de503727"
      },
      "execution_count": 31,
      "outputs": [
        {
          "output_type": "stream",
          "name": "stdout",
          "text": [
            "0\n"
          ]
        }
      ]
    },
    {
      "cell_type": "code",
      "source": [
        "ypred.shape"
      ],
      "metadata": {
        "colab": {
          "base_uri": "https://localhost:8080/"
        },
        "id": "6Ihfvr6tJkZs",
        "outputId": "7ece1cf3-b4b4-49f5-84e9-7c6884eb37c2"
      },
      "execution_count": 34,
      "outputs": [
        {
          "output_type": "execute_result",
          "data": {
            "text/plain": [
              "(10000, 10)"
            ]
          },
          "metadata": {},
          "execution_count": 34
        }
      ]
    },
    {
      "cell_type": "code",
      "source": [
        "y_pred=[np.argmax(i) for i in ypred]"
      ],
      "metadata": {
        "id": "aNBmygRrItC0"
      },
      "execution_count": 42,
      "outputs": []
    },
    {
      "cell_type": "code",
      "source": [
        "print(y_pred[10])"
      ],
      "metadata": {
        "colab": {
          "base_uri": "https://localhost:8080/"
        },
        "id": "UjW52h1BJYe5",
        "outputId": "d7f0b475-bca8-46b0-9e0c-21a42ec70838"
      },
      "execution_count": 43,
      "outputs": [
        {
          "output_type": "stream",
          "name": "stdout",
          "text": [
            "0\n"
          ]
        }
      ]
    },
    {
      "cell_type": "code",
      "source": [
        "print(y_pred)"
      ],
      "metadata": {
        "colab": {
          "base_uri": "https://localhost:8080/"
        },
        "id": "w4hJoydlJcC0",
        "outputId": "6f1a70bc-7c2c-4ff5-f6d6-459cb4e0d206"
      },
      "execution_count": 44,
      "outputs": [
        {
          "output_type": "stream",
          "name": "stdout",
          "text": [
            "[3, 1, 1, 0, 4, 1, 4, 3, 5, 4, 0, 0, 9, 0, 1, 3, 7, 2, 3, 4, 7, 5, 0, 3, 4, 0, 2, 4, 0, 1, 3, 1, 3, 4, 2, 2, 2, 1, 2, 1, 1, 3, 4, 1, 3, 5, 1, 1, 4, 4, 5, 3, 5, 3, 0, 0, 4, 1, 4, 5, 3, 2, 9, 3, 3, 4, 6, 4, 3, 0, 2, 0, 2, 7, 1, 1, 3, 2, 4, 2, 7, 0, 2, 7, 8, 4, 3, 3, 0, 1, 3, 5, 4, 3, 1, 4, 1, 3, 5, 9, 0, 0, 3, 4, 3, 3, 2, 1, 4, 4, 3, 1, 3, 9, 3, 4, 4, 4, 9, 2, 3, 4, 2, 6, 4, 4, 0, 5, 3, 3, 6, 5, 3, 2, 5, 1, 0, 1, 0, 4, 5, 2, 3, 1, 3, 1, 8, 2, 0, 9, 9, 5, 5, 5, 1, 5, 0, 0, 2, 1, 4, 6, 3, 4, 0, 3, 4, 5, 1, 4, 4, 3, 1, 3, 2, 1, 1, 8, 1, 2, 1, 3, 5, 0, 3, 9, 2, 3, 0, 1, 1, 1, 0, 3, 0, 3, 1, 5, 4, 2, 3, 0, 1, 1, 1, 3, 8, 3, 2, 3, 4, 3, 3, 3, 8, 0, 3, 0, 5, 3, 7, 2, 2, 2, 1, 2, 3, 4, 1, 1, 3, 3, 5, 3, 1, 7, 2, 1, 4, 1, 3, 3, 8, 3, 2, 3, 0, 2, 4, 2, 4, 1, 9, 3, 2, 2, 2, 8, 2, 0, 2, 3, 2, 1, 4, 1, 0, 1, 3, 0, 3, 0, 1, 3, 3, 4, 1, 8, 0, 1, 2, 9, 1, 5, 9, 2, 5, 4, 1, 3, 3, 1, 7, 2, 0, 4, 0, 0, 2, 8, 4, 1, 1, 2, 4, 0, 2, 3, 4, 3, 3, 0, 0, 3, 1, 3, 5, 5, 2, 3, 3, 2, 3, 3, 0, 4, 2, 0, 3, 1, 1, 2, 1, 3, 3, 3, 4, 2, 8, 5, 3, 0, 1, 3, 5, 1, 0, 5, 1, 3, 1, 3, 3, 0, 1, 5, 3, 1, 1, 4, 4, 0, 2, 1, 3, 0, 0, 3, 5, 3, 2, 2, 0, 8, 3, 5, 4, 1, 1, 4, 0, 2, 3, 3, 5, 1, 5, 2, 1, 4, 2, 0, 5, 1, 7, 3, 2, 3, 4, 2, 0, 3, 3, 8, 2, 4, 5, 0, 3, 1, 1, 1, 3, 3, 4, 7, 1, 4, 2, 1, 4, 2, 4, 2, 0, 2, 4, 1, 4, 5, 1, 8, 4, 5, 3, 3, 2, 3, 3, 5, 0, 0, 3, 0, 2, 0, 5, 4, 3, 3, 3, 3, 1, 3, 7, 1, 1, 5, 3, 0, 5, 0, 5, 0, 3, 3, 8, 2, 3, 3, 3, 7, 0, 1, 3, 4, 1, 1, 5, 3, 1, 7, 3, 5, 4, 0, 4, 7, 7, 1, 0, 3, 2, 3, 2, 0, 9, 4, 0, 5, 3, 3, 3, 2, 1, 3, 1, 3, 5, 3, 3, 4, 2, 2, 0, 3, 2, 0, 5, 4, 5, 3, 3, 1, 3, 0, 3, 5, 3, 1, 4, 3, 4, 4, 5, 4, 1, 1, 8, 2, 3, 4, 8, 3, 4, 0, 0, 2, 3, 2, 7, 3, 0, 5, 7, 4, 4, 1, 4, 0, 9, 0, 7, 8, 0, 4, 0, 0, 5, 3, 3, 4, 8, 3, 3, 4, 3, 3, 2, 7, 8, 0, 1, 2, 1, 2, 0, 0, 3, 4, 3, 3, 0, 3, 5, 3, 8, 0, 4, 8, 5, 7, 0, 8, 3, 3, 3, 0, 0, 2, 2, 0, 2, 2, 3, 1, 3, 2, 3, 1, 0, 8, 4, 6, 2, 0, 2, 4, 3, 0, 5, 3, 2, 1, 9, 1, 2, 3, 5, 9, 1, 3, 0, 1, 0, 3, 2, 1, 3, 2, 5, 2, 1, 1, 3, 3, 0, 3, 0, 1, 4, 0, 3, 1, 2, 0, 3, 7, 4, 3, 4, 9, 1, 4, 3, 1, 2, 3, 9, 2, 6, 3, 1, 3, 1, 8, 3, 3, 5, 1, 2, 4, 3, 8, 5, 1, 1, 4, 4, 3, 1, 0, 1, 1, 0, 1, 9, 1, 4, 8, 3, 3, 4, 0, 3, 2, 1, 0, 8, 4, 5, 0, 4, 0, 6, 1, 3, 3, 2, 5, 0, 2, 0, 3, 3, 1, 4, 0, 2, 3, 4, 2, 0, 5, 2, 1, 1, 3, 4, 1, 0, 3, 4, 3, 1, 1, 2, 4, 7, 3, 4, 0, 4, 0, 2, 4, 3, 1, 1, 0, 4, 7, 1, 3, 4, 2, 4, 1, 3, 5, 3, 8, 3, 1, 4, 3, 0, 3, 3, 4, 1, 5, 3, 3, 0, 1, 2, 5, 1, 1, 3, 3, 4, 4, 0, 8, 3, 3, 3, 1, 2, 3, 3, 7, 6, 3, 2, 0, 1, 3, 0, 0, 3, 0, 1, 1, 1, 4, 2, 4, 2, 1, 1, 7, 5, 1, 1, 1, 4, 3, 1, 7, 3, 4, 7, 0, 0, 3, 1, 3, 1, 0, 2, 3, 0, 3, 5, 3, 2, 7, 6, 0, 9, 2, 3, 3, 5, 2, 2, 3, 5, 0, 8, 2, 4, 0, 3, 5, 3, 5, 2, 4, 7, 3, 0, 0, 0, 3, 2, 1, 3, 1, 2, 7, 3, 0, 0, 5, 1, 3, 3, 4, 4, 5, 0, 0, 7, 1, 4, 3, 4, 2, 3, 9, 5, 5, 4, 1, 1, 1, 1, 2, 2, 3, 2, 3, 0, 3, 9, 1, 1, 4, 0, 3, 5, 5, 5, 0, 3, 0, 5, 3, 6, 5, 3, 1, 1, 8, 1, 1, 3, 4, 0, 4, 3, 3, 1, 3, 3, 4, 1, 8, 4, 1, 1, 0, 7, 1, 4, 4, 3, 4, 0, 0, 2, 2, 3, 1, 3, 1, 1, 0, 3, 8, 1, 2, 5, 7, 1, 0, 2, 3, 4, 0, 1, 2, 1, 0, 5, 7, 3, 0, 2, 3, 1, 3, 3, 8, 1, 0, 4, 1, 3, 9, 5, 4, 2, 2, 3, 1, 3, 2, 3, 4, 4, 1, 5, 1, 3, 5, 1, 2, 5, 3, 0, 0, 2, 1, 1, 1, 1, 5, 3, 4, 6, 9, 3, 0, 3, 2, 2, 4, 5, 2, 1, 7, 2, 4, 7, 4, 4, 0, 3, 4, 2, 1, 3, 3, 8, 3, 3, 7, 3, 5, 3, 1, 2, 4, 4, 0, 4, 8, 3, 1, 0, 5, 9, 3, 7, 3, 4, 1, 3, 2, 0, 3, 4, 1, 3, 5, 7, 3, 3, 3, 2, 4, 0, 3, 5, 3, 3, 4, 0, 3, 3, 3, 4, 2, 3, 3, 8, 0, 7, 5, 8, 5, 2, 3, 2, 1, 4, 5, 0, 1, 3, 3, 1, 1, 1, 1, 4, 1, 4, 2, 3, 1, 3, 4, 0, 8, 3, 5, 7, 0, 0, 0, 3, 4, 4, 4, 4, 5, 0, 4, 4, 7, 3, 4, 5, 5, 3, 2, 3, 7, 1, 3, 0, 1, 0, 1, 1, 1, 5, 8, 2, 8, 7, 2, 0, 1, 3, 0, 4, 1, 3, 0, 5, 0, 3, 0, 0, 1, 5, 0, 3, 3, 3, 2, 3, 5, 1, 1, 5, 1, 1, 3, 7, 8, 0, 3, 0, 3, 4, 0, 2, 3, 1, 2, 3, 3, 4, 0, 4, 5, 2, 5, 1, 1, 1, 3, 1, 7, 4, 5, 1, 2, 0, 3, 3, 8, 5, 2, 3, 4, 1, 4, 1, 1, 5, 8, 1, 0, 2, 4, 4, 3, 0, 8, 3, 2, 4, 0, 5, 0, 4, 4, 7, 9, 3, 4, 1, 3, 8, 2, 3, 5, 8, 3, 0, 5, 3, 3, 0, 5, 0, 1, 5, 0, 3, 3, 4, 4, 1, 2, 9, 1, 4, 0, 4, 4, 3, 4, 8, 4, 4, 3, 1, 3, 1, 0, 3, 1, 4, 4, 0, 5, 2, 3, 4, 1, 4, 3, 0, 0, 3, 1, 1, 2, 1, 3, 5, 2, 4, 4, 5, 2, 7, 7, 2, 2, 1, 1, 0, 3, 3, 4, 2, 4, 1, 3, 1, 3, 0, 2, 2, 1, 2, 3, 1, 3, 5, 3, 1, 6, 2, 1, 5, 5, 5, 0, 9, 2, 4, 3, 3, 8, 2, 6, 0, 5, 0, 4, 1, 3, 3, 2, 7, 1, 3, 0, 5, 3, 2, 1, 0, 5, 5, 2, 0, 2, 2, 0, 2, 4, 7, 5, 0, 3, 3, 4, 0, 5, 4, 3, 1, 8, 3, 4, 3, 4, 1, 2, 2, 3, 1, 4, 5, 4, 0, 4, 4, 8, 3, 3, 0, 0, 2, 5, 1, 3, 0, 2, 9, 4, 0, 4, 0, 0, 0, 2, 3, 4, 0, 3, 3, 4, 3, 3, 0, 3, 3, 5, 3, 5, 8, 0, 3, 7, 5, 3, 3, 3, 0, 1, 1, 2, 9, 0, 4, 3, 3, 6, 3, 3, 0, 3, 2, 2, 7, 3, 7, 9, 3, 3, 0, 1, 2, 1, 7, 4, 5, 4, 3, 3, 2, 1, 4, 0, 1, 3, 2, 3, 7, 5, 8, 3, 0, 1, 1, 4, 3, 3, 8, 0, 0, 0, 6, 0, 2, 3, 7, 5, 4, 3, 2, 3, 2, 4, 1, 2, 5, 2, 4, 3, 7, 1, 3, 4, 0, 3, 8, 4, 0, 7, 3, 0, 7, 8, 3, 0, 0, 4, 0, 8, 2, 4, 3, 0, 6, 5, 4, 3, 1, 8, 8, 2, 3, 5, 3, 0, 0, 3, 1, 0, 9, 2, 4, 7, 5, 4, 3, 2, 6, 1, 2, 3, 7, 3, 3, 3, 0, 3, 3, 3, 4, 3, 0, 3, 5, 0, 2, 0, 9, 0, 3, 4, 5, 9, 3, 3, 1, 7, 0, 1, 4, 3, 4, 3, 0, 3, 4, 5, 2, 1, 2, 9, 1, 9, 4, 4, 0, 8, 4, 3, 1, 4, 1, 1, 2, 1, 2, 3, 6, 3, 3, 4, 3, 1, 9, 3, 3, 3, 3, 1, 1, 3, 5, 5, 0, 4, 4, 3, 2, 3, 3, 0, 5, 8, 5, 0, 3, 1, 0, 3, 3, 7, 2, 4, 0, 2, 0, 4, 5, 7, 1, 1, 4, 1, 0, 3, 7, 2, 0, 0, 4, 1, 1, 0, 2, 8, 4, 4, 2, 0, 4, 5, 0, 3, 1, 1, 3, 3, 3, 0, 7, 4, 1, 3, 3, 0, 3, 1, 3, 4, 0, 4, 3, 5, 0, 2, 1, 2, 3, 1, 1, 3, 5, 0, 8, 5, 1, 5, 0, 3, 0, 3, 1, 4, 0, 2, 3, 2, 5, 1, 3, 0, 3, 0, 4, 3, 1, 9, 8, 7, 7, 1, 4, 4, 9, 3, 4, 1, 1, 9, 0, 2, 0, 3, 3, 3, 4, 4, 2, 3, 3, 2, 1, 0, 0, 1, 3, 2, 7, 2, 7, 4, 4, 1, 5, 5, 1, 3, 5, 8, 2, 4, 0, 3, 3, 1, 1, 5, 3, 3, 1, 1, 1, 3, 1, 2, 3, 0, 1, 0, 1, 3, 3, 5, 2, 4, 3, 4, 5, 4, 0, 8, 3, 2, 5, 2, 3, 1, 4, 2, 4, 4, 3, 1, 1, 3, 0, 2, 4, 3, 3, 2, 1, 8, 3, 3, 0, 4, 3, 3, 1, 1, 5, 7, 5, 3, 2, 2, 0, 3, 8, 2, 3, 1, 0, 3, 1, 4, 3, 1, 4, 6, 8, 0, 6, 1, 3, 5, 5, 3, 5, 2, 5, 5, 0, 1, 4, 0, 1, 3, 4, 1, 3, 2, 3, 4, 2, 3, 2, 3, 1, 7, 2, 5, 0, 1, 5, 7, 8, 5, 0, 1, 8, 2, 5, 2, 2, 0, 5, 3, 5, 2, 4, 1, 4, 0, 8, 8, 3, 4, 9, 1, 2, 5, 8, 0, 3, 5, 0, 3, 0, 7, 3, 0, 4, 9, 4, 6, 5, 3, 0, 4, 1, 0, 1, 4, 0, 0, 3, 1, 1, 0, 5, 3, 3, 3, 5, 5, 6, 3, 3, 4, 0, 4, 3, 3, 1, 3, 4, 1, 3, 1, 2, 1, 1, 4, 3, 3, 4, 0, 7, 3, 6, 1, 7, 5, 5, 3, 3, 0, 1, 3, 2, 5, 3, 0, 5, 1, 0, 4, 2, 3, 4, 5, 7, 4, 3, 1, 4, 4, 4, 2, 3, 0, 2, 1, 0, 0, 0, 7, 5, 5, 0, 0, 4, 3, 1, 1, 3, 0, 4, 3, 3, 3, 3, 5, 3, 0, 1, 3, 4, 2, 3, 0, 3, 9, 1, 3, 2, 0, 4, 2, 0, 0, 0, 8, 3, 2, 2, 5, 3, 3, 0, 0, 2, 7, 2, 3, 2, 3, 3, 0, 5, 4, 0, 8, 4, 5, 2, 2, 4, 5, 1, 0, 3, 2, 4, 6, 1, 2, 5, 1, 1, 1, 2, 3, 0, 1, 8, 2, 0, 2, 8, 9, 4, 3, 5, 3, 8, 3, 1, 0, 0, 1, 0, 5, 5, 4, 3, 3, 1, 4, 1, 3, 3, 4, 0, 1, 5, 4, 3, 1, 2, 3, 0, 3, 3, 7, 1, 4, 1, 0, 2, 3, 0, 9, 0, 2, 3, 2, 5, 2, 9, 4, 2, 0, 2, 4, 4, 3, 0, 4, 4, 5, 3, 0, 6, 3, 8, 3, 3, 5, 4, 0, 4, 8, 3, 1, 3, 4, 5, 3, 0, 7, 1, 2, 3, 0, 4, 5, 2, 1, 0, 5, 3, 1, 2, 5, 2, 7, 9, 1, 5, 3, 2, 4, 4, 4, 1, 2, 2, 3, 4, 3, 1, 3, 2, 1, 1, 9, 4, 4, 1, 0, 7, 2, 2, 8, 0, 1, 7, 1, 1, 1, 7, 3, 3, 3, 3, 1, 3, 7, 0, 1, 3, 8, 3, 3, 3, 0, 0, 0, 1, 8, 0, 2, 3, 3, 1, 3, 0, 3, 4, 4, 3, 3, 3, 2, 3, 3, 2, 1, 1, 3, 0, 4, 3, 0, 3, 9, 1, 1, 0, 2, 0, 0, 4, 5, 3, 0, 3, 1, 4, 0, 4, 3, 4, 4, 3, 1, 2, 7, 3, 3, 3, 3, 2, 3, 0, 1, 1, 1, 1, 1, 1, 1, 6, 4, 8, 4, 3, 7, 1, 0, 4, 3, 0, 4, 7, 4, 2, 2, 0, 1, 0, 1, 0, 3, 2, 6, 0, 0, 4, 1, 5, 3, 2, 2, 3, 3, 4, 3, 2, 2, 1, 1, 3, 4, 4, 0, 2, 2, 1, 7, 3, 1, 0, 1, 1, 3, 4, 2, 1, 0, 1, 3, 7, 1, 4, 8, 3, 3, 4, 3, 5, 2, 3, 3, 1, 1, 1, 0, 4, 1, 7, 1, 4, 3, 2, 3, 1, 5, 1, 4, 8, 0, 3, 3, 3, 3, 5, 0, 4, 4, 6, 2, 5, 0, 0, 3, 4, 6, 6, 3, 6, 0, 8, 0, 4, 1, 3, 2, 0, 4, 9, 0, 1, 2, 1, 6, 7, 0, 6, 5, 2, 4, 7, 1, 0, 3, 9, 2, 2, 4, 4, 4, 2, 3, 3, 2, 1, 7, 0, 1, 0, 4, 1, 3, 3, 3, 4, 5, 9, 1, 3, 1, 3, 0, 3, 7, 1, 3, 3, 0, 4, 1, 4, 0, 5, 3, 3, 0, 0, 4, 9, 3, 3, 1, 0, 3, 4, 3, 5, 2, 4, 3, 3, 3, 8, 1, 3, 3, 3, 0, 3, 3, 3, 8, 0, 3, 3, 2, 3, 3, 0, 3, 8, 0, 2, 3, 3, 3, 1, 1, 7, 3, 5, 5, 0, 3, 5, 7, 3, 3, 2, 0, 1, 1, 0, 0, 3, 2, 2, 3, 2, 1, 3, 5, 2, 7, 3, 7, 3, 3, 8, 0, 2, 5, 1, 4, 8, 4, 3, 7, 3, 0, 5, 2, 1, 3, 3, 2, 1, 0, 2, 3, 4, 0, 3, 9, 3, 2, 5, 4, 0, 3, 3, 0, 7, 6, 3, 4, 1, 3, 0, 0, 8, 5, 2, 5, 1, 1, 0, 0, 4, 4, 0, 1, 2, 3, 1, 2, 7, 5, 3, 2, 3, 2, 0, 9, 1, 4, 1, 5, 4, 2, 4, 3, 5, 4, 1, 3, 3, 0, 1, 3, 3, 3, 7, 1, 3, 7, 7, 5, 3, 2, 3, 4, 0, 0, 1, 1, 1, 0, 4, 4, 2, 0, 3, 0, 0, 1, 3, 0, 0, 1, 1, 5, 1, 3, 5, 1, 0, 3, 0, 1, 4, 3, 5, 0, 1, 7, 2, 0, 0, 8, 7, 2, 7, 5, 8, 2, 1, 0, 0, 7, 5, 0, 2, 1, 0, 7, 3, 1, 3, 6, 4, 0, 0, 0, 0, 0, 0, 3, 3, 7, 3, 1, 5, 5, 5, 5, 3, 0, 0, 0, 2, 4, 6, 3, 2, 3, 1, 2, 1, 1, 3, 0, 3, 8, 0, 5, 6, 3, 3, 3, 8, 0, 0, 1, 4, 5, 4, 2, 7, 3, 3, 0, 4, 3, 5, 1, 1, 0, 4, 4, 3, 0, 1, 7, 0, 1, 0, 1, 4, 3, 0, 5, 3, 2, 3, 4, 1, 2, 2, 3, 3, 1, 0, 2, 1, 4, 5, 4, 2, 4, 3, 7, 3, 3, 4, 5, 8, 7, 4, 5, 0, 2, 8, 4, 2, 3, 4, 1, 1, 0, 9, 3, 4, 0, 2, 4, 5, 4, 1, 4, 1, 3, 4, 4, 3, 1, 4, 3, 3, 4, 2, 2, 3, 3, 0, 8, 0, 8, 4, 0, 2, 4, 1, 3, 2, 3, 3, 4, 3, 3, 0, 3, 1, 3, 3, 1, 4, 4, 2, 5, 0, 0, 3, 9, 3, 5, 9, 2, 1, 9, 7, 3, 0, 5, 7, 3, 4, 0, 4, 5, 1, 7, 0, 1, 0, 3, 1, 6, 3, 8, 1, 3, 3, 3, 0, 3, 3, 5, 9, 2, 3, 2, 0, 4, 4, 1, 4, 1, 2, 5, 3, 2, 0, 7, 1, 0, 0, 2, 3, 7, 0, 2, 1, 3, 1, 3, 5, 3, 0, 3, 8, 3, 3, 2, 6, 5, 0, 1, 4, 0, 5, 8, 3, 1, 1, 8, 7, 5, 9, 3, 3, 0, 8, 0, 1, 3, 0, 4, 5, 1, 0, 2, 5, 5, 4, 4, 1, 1, 5, 4, 0, 0, 0, 0, 9, 2, 4, 2, 0, 1, 3, 3, 4, 0, 0, 3, 3, 2, 0, 3, 1, 5, 0, 3, 2, 3, 7, 2, 0, 7, 9, 2, 5, 5, 3, 3, 4, 0, 8, 4, 1, 2, 5, 1, 3, 9, 4, 0, 3, 3, 3, 2, 3, 3, 3, 3, 4, 0, 6, 2, 0, 0, 1, 5, 3, 5, 4, 1, 7, 1, 3, 7, 3, 1, 3, 2, 0, 7, 3, 1, 3, 2, 5, 5, 4, 4, 1, 9, 5, 3, 3, 0, 2, 4, 1, 2, 1, 3, 2, 2, 0, 3, 1, 4, 0, 5, 7, 4, 3, 3, 0, 5, 2, 1, 0, 5, 3, 3, 1, 9, 3, 2, 1, 8, 4, 4, 5, 3, 8, 5, 9, 2, 1, 3, 6, 4, 3, 3, 3, 4, 0, 3, 4, 6, 4, 1, 2, 3, 0, 0, 1, 0, 0, 3, 3, 0, 0, 6, 4, 6, 3, 0, 2, 3, 4, 1, 1, 8, 5, 3, 3, 2, 7, 1, 8, 8, 3, 1, 1, 5, 0, 1, 2, 7, 1, 0, 3, 3, 5, 0, 3, 3, 6, 2, 0, 7, 0, 1, 4, 2, 1, 1, 4, 4, 4, 4, 1, 1, 5, 1, 5, 3, 0, 0, 1, 5, 0, 4, 3, 4, 1, 0, 0, 1, 0, 1, 2, 2, 2, 1, 2, 3, 1, 8, 1, 0, 0, 2, 1, 0, 0, 0, 1, 5, 2, 3, 1, 7, 4, 3, 2, 1, 4, 3, 7, 3, 4, 9, 4, 3, 3, 4, 7, 1, 2, 3, 2, 0, 4, 3, 3, 1, 4, 7, 5, 0, 0, 0, 2, 3, 0, 5, 3, 8, 1, 0, 7, 0, 1, 8, 1, 3, 0, 3, 8, 0, 3, 2, 1, 2, 0, 5, 4, 3, 3, 3, 5, 2, 4, 2, 3, 4, 5, 2, 0, 3, 0, 0, 8, 2, 0, 1, 1, 1, 1, 1, 2, 4, 0, 0, 2, 2, 6, 3, 3, 5, 4, 2, 0, 1, 4, 0, 3, 2, 3, 2, 1, 4, 7, 1, 1, 3, 5, 6, 2, 3, 1, 9, 4, 8, 3, 5, 5, 3, 7, 6, 2, 4, 5, 0, 2, 0, 5, 0, 9, 4, 3, 3, 3, 3, 4, 4, 0, 0, 3, 0, 5, 0, 1, 1, 1, 1, 0, 0, 5, 2, 4, 5, 5, 4, 1, 4, 3, 1, 1, 2, 1, 4, 1, 0, 3, 2, 5, 3, 4, 0, 0, 0, 3, 3, 0, 3, 1, 1, 1, 1, 3, 1, 0, 7, 9, 3, 5, 4, 1, 4, 5, 3, 5, 3, 3, 1, 9, 3, 2, 3, 3, 4, 4, 0, 1, 0, 2, 9, 3, 9, 3, 3, 0, 1, 4, 7, 3, 3, 2, 4, 0, 4, 7, 3, 4, 9, 3, 1, 3, 1, 3, 3, 2, 5, 2, 0, 0, 2, 2, 3, 3, 4, 5, 5, 4, 3, 1, 4, 0, 2, 9, 3, 3, 4, 4, 3, 1, 7, 4, 2, 0, 3, 9, 0, 0, 4, 2, 4, 4, 6, 1, 2, 3, 2, 0, 4, 5, 9, 5, 3, 5, 5, 0, 5, 6, 4, 1, 3, 0, 5, 2, 5, 4, 3, 3, 4, 7, 7, 0, 5, 3, 2, 2, 3, 1, 0, 1, 3, 0, 3, 1, 4, 8, 2, 3, 3, 9, 1, 2, 5, 4, 3, 1, 2, 1, 1, 0, 0, 0, 1, 1, 4, 0, 2, 4, 1, 4, 0, 0, 4, 2, 5, 7, 3, 3, 4, 6, 5, 0, 1, 3, 2, 2, 3, 3, 3, 7, 3, 0, 8, 3, 2, 1, 1, 0, 1, 3, 2, 8, 3, 0, 2, 1, 1, 0, 1, 1, 4, 5, 1, 1, 0, 1, 3, 0, 2, 0, 3, 4, 0, 7, 7, 2, 1, 3, 6, 4, 1, 3, 2, 4, 0, 3, 1, 0, 2, 2, 0, 4, 4, 3, 9, 5, 1, 0, 3, 7, 9, 1, 0, 2, 5, 0, 1, 4, 3, 3, 2, 8, 5, 0, 3, 8, 0, 0, 4, 0, 1, 5, 3, 3, 3, 4, 3, 2, 1, 4, 0, 0, 2, 1, 4, 4, 2, 7, 2, 1, 1, 0, 0, 3, 8, 3, 3, 3, 1, 3, 2, 3, 1, 3, 1, 0, 0, 5, 1, 0, 3, 3, 3, 3, 3, 4, 9, 9, 1, 5, 5, 0, 1, 3, 3, 0, 3, 4, 8, 2, 1, 0, 2, 5, 1, 5, 1, 4, 8, 2, 9, 1, 2, 1, 3, 3, 1, 0, 7, 4, 4, 3, 3, 2, 5, 4, 2, 0, 0, 2, 0, 0, 0, 5, 8, 3, 1, 3, 0, 3, 8, 3, 1, 3, 2, 0, 4, 9, 4, 0, 2, 3, 3, 5, 0, 4, 2, 0, 8, 2, 8, 2, 0, 7, 3, 1, 1, 9, 4, 9, 1, 2, 5, 6, 0, 3, 0, 4, 1, 1, 2, 2, 5, 3, 4, 1, 4, 3, 4, 2, 3, 0, 4, 1, 0, 8, 4, 0, 3, 9, 3, 9, 4, 8, 3, 1, 7, 8, 7, 5, 0, 9, 7, 6, 3, 9, 3, 3, 8, 8, 5, 1, 0, 3, 3, 3, 2, 1, 0, 3, 0, 2, 5, 1, 5, 0, 2, 3, 0, 2, 2, 6, 4, 3, 3, 5, 1, 2, 2, 1, 0, 4, 1, 3, 4, 3, 3, 1, 6, 2, 2, 3, 0, 2, 1, 4, 0, 0, 2, 0, 3, 3, 2, 2, 3, 0, 5, 7, 0, 3, 3, 3, 3, 4, 3, 2, 0, 5, 5, 3, 2, 8, 3, 3, 7, 3, 1, 4, 4, 5, 1, 1, 2, 1, 3, 0, 0, 0, 9, 0, 1, 4, 4, 1, 8, 8, 0, 1, 5, 3, 3, 5, 3, 4, 7, 4, 3, 3, 4, 3, 5, 3, 1, 1, 4, 0, 4, 1, 3, 4, 1, 1, 3, 7, 4, 2, 6, 3, 1, 5, 0, 4, 1, 3, 1, 7, 4, 3, 3, 1, 0, 0, 1, 1, 5, 2, 1, 3, 3, 4, 0, 3, 0, 4, 3, 0, 7, 1, 0, 3, 7, 3, 2, 3, 1, 3, 5, 4, 7, 0, 5, 7, 3, 1, 3, 3, 1, 0, 4, 3, 2, 1, 5, 5, 1, 3, 0, 0, 0, 0, 7, 3, 1, 8, 3, 3, 2, 0, 0, 5, 3, 5, 9, 8, 3, 2, 2, 1, 4, 3, 1, 1, 1, 3, 2, 5, 3, 1, 4, 3, 1, 1, 2, 5, 8, 5, 1, 3, 3, 3, 3, 8, 0, 3, 2, 3, 7, 2, 3, 0, 2, 9, 2, 8, 5, 1, 0, 2, 8, 2, 4, 1, 0, 0, 1, 1, 2, 0, 0, 5, 1, 4, 0, 2, 0, 7, 3, 0, 2, 3, 0, 3, 8, 0, 2, 1, 1, 1, 1, 4, 2, 4, 3, 2, 5, 1, 1, 2, 1, 7, 3, 9, 1, 0, 2, 0, 2, 1, 1, 4, 4, 4, 1, 3, 4, 4, 7, 2, 1, 5, 0, 2, 2, 2, 2, 0, 5, 9, 0, 1, 7, 7, 1, 1, 4, 5, 3, 3, 4, 3, 4, 7, 1, 3, 0, 1, 4, 8, 8, 1, 3, 3, 9, 5, 9, 3, 5, 3, 0, 3, 5, 3, 9, 3, 2, 8, 1, 1, 8, 5, 5, 3, 3, 3, 7, 4, 4, 1, 3, 1, 3, 1, 4, 4, 1, 4, 0, 3, 3, 3, 1, 2, 2, 3, 3, 0, 2, 4, 0, 0, 7, 3, 5, 0, 4, 3, 2, 5, 4, 1, 4, 0, 1, 2, 3, 9, 7, 3, 0, 5, 1, 1, 2, 3, 3, 1, 7, 5, 3, 3, 4, 7, 3, 3, 3, 1, 3, 0, 3, 2, 5, 4, 3, 2, 0, 1, 0, 3, 1, 4, 9, 3, 3, 6, 1, 3, 2, 3, 2, 2, 0, 3, 2, 5, 0, 0, 1, 1, 0, 3, 0, 2, 3, 5, 2, 3, 3, 3, 0, 3, 5, 5, 0, 3, 1, 5, 4, 0, 8, 3, 4, 3, 8, 3, 4, 3, 4, 5, 3, 4, 9, 2, 2, 1, 1, 0, 8, 0, 7, 0, 2, 6, 0, 4, 3, 8, 0, 1, 0, 2, 0, 0, 4, 3, 7, 0, 1, 7, 3, 6, 5, 4, 2, 5, 3, 2, 7, 3, 4, 3, 3, 9, 4, 4, 2, 1, 3, 3, 4, 0, 1, 3, 1, 3, 2, 4, 0, 3, 0, 1, 2, 9, 2, 6, 0, 0, 0, 1, 2, 8, 3, 3, 0, 2, 0, 4, 2, 2, 3, 0, 5, 0, 2, 6, 3, 4, 3, 0, 2, 5, 0, 2, 4, 1, 0, 3, 3, 4, 4, 2, 1, 6, 7, 8, 2, 5, 3, 4, 1, 3, 1, 3, 0, 3, 1, 3, 0, 1, 3, 3, 2, 2, 3, 0, 1, 3, 3, 2, 3, 5, 5, 4, 0, 1, 2, 3, 4, 3, 1, 2, 5, 1, 1, 3, 0, 3, 3, 2, 0, 3, 1, 3, 3, 5, 3, 1, 2, 3, 3, 0, 8, 4, 3, 2, 0, 5, 2, 9, 7, 3, 7, 0, 3, 9, 0, 4, 2, 9, 7, 2, 1, 1, 5, 1, 4, 2, 3, 4, 0, 3, 0, 1, 4, 4, 5, 3, 5, 1, 3, 2, 5, 7, 9, 3, 6, 1, 1, 4, 5, 4, 2, 2, 1, 3, 1, 4, 6, 3, 4, 1, 1, 0, 3, 1, 5, 8, 4, 7, 0, 3, 3, 0, 0, 7, 0, 0, 5, 0, 3, 0, 7, 3, 2, 8, 5, 0, 3, 3, 0, 1, 4, 3, 3, 2, 3, 3, 5, 3, 0, 0, 1, 4, 5, 1, 3, 4, 5, 0, 1, 4, 1, 2, 1, 2, 3, 2, 3, 3, 4, 9, 3, 3, 4, 1, 3, 2, 7, 1, 3, 0, 8, 1, 0, 1, 1, 3, 3, 6, 7, 4, 3, 0, 1, 0, 1, 3, 3, 0, 1, 3, 7, 5, 4, 3, 2, 0, 5, 4, 3, 5, 3, 5, 1, 4, 8, 1, 1, 1, 3, 3, 1, 3, 3, 2, 1, 0, 1, 0, 4, 5, 2, 3, 2, 8, 3, 5, 1, 3, 2, 1, 1, 2, 4, 2, 5, 4, 0, 3, 0, 1, 6, 3, 4, 7, 7, 7, 3, 3, 4, 9, 3, 1, 3, 0, 0, 3, 1, 1, 7, 3, 3, 1, 6, 3, 3, 4, 9, 3, 3, 4, 1, 1, 1, 0, 5, 1, 0, 0, 3, 3, 4, 7, 3, 9, 6, 0, 5, 5, 2, 3, 7, 4, 7, 3, 8, 5, 3, 2, 1, 3, 1, 0, 2, 1, 0, 3, 5, 3, 2, 2, 4, 0, 7, 2, 8, 3, 0, 3, 7, 5, 4, 0, 8, 4, 4, 3, 3, 3, 0, 6, 2, 0, 4, 3, 2, 5, 3, 4, 3, 4, 9, 3, 8, 4, 1, 1, 5, 8, 0, 5, 1, 3, 7, 3, 0, 1, 1, 4, 3, 0, 7, 1, 7, 4, 3, 2, 1, 1, 1, 1, 3, 0, 0, 2, 1, 0, 5, 0, 2, 0, 0, 4, 3, 1, 0, 0, 1, 3, 0, 3, 4, 3, 3, 4, 0, 5, 2, 1, 9, 3, 1, 3, 2, 4, 3, 0, 1, 4, 4, 4, 1, 0, 5, 4, 1, 4, 9, 2, 2, 3, 0, 1, 3, 6, 1, 3, 4, 1, 1, 1, 5, 5, 0, 2, 0, 1, 2, 3, 0, 3, 2, 1, 3, 4, 9, 8, 1, 2, 1, 5, 1, 2, 2, 4, 0, 0, 0, 5, 2, 1, 4, 2, 1, 3, 9, 7, 1, 1, 3, 1, 3, 4, 7, 4, 1, 3, 3, 0, 2, 3, 3, 1, 2, 6, 4, 7, 4, 2, 7, 0, 2, 3, 2, 3, 0, 4, 0, 3, 8, 4, 8, 4, 1, 0, 6, 0, 9, 6, 8, 0, 1, 1, 4, 8, 4, 2, 3, 3, 3, 9, 4, 2, 1, 4, 4, 3, 4, 6, 0, 4, 0, 6, 0, 1, 1, 3, 4, 7, 5, 7, 0, 1, 1, 3, 4, 3, 8, 4, 0, 1, 2, 3, 4, 5, 0, 2, 3, 9, 3, 3, 4, 3, 8, 6, 2, 4, 0, 7, 2, 1, 9, 3, 3, 4, 3, 3, 0, 7, 1, 4, 5, 4, 6, 2, 0, 0, 2, 1, 1, 1, 1, 7, 2, 4, 7, 5, 2, 9, 4, 5, 8, 4, 2, 4, 2, 0, 0, 2, 5, 1, 1, 7, 0, 6, 0, 3, 2, 2, 7, 2, 4, 0, 2, 4, 2, 1, 5, 9, 6, 1, 0, 5, 7, 0, 9, 5, 0, 3, 0, 3, 3, 4, 0, 3, 0, 1, 1, 3, 4, 3, 0, 2, 0, 1, 2, 3, 4, 3, 0, 2, 2, 9, 0, 1, 2, 3, 4, 3, 6, 7, 6, 5, 4, 4, 7, 4, 2, 3, 3, 9, 4, 5, 3, 1, 3, 5, 1, 2, 4, 2, 1, 3, 4, 3, 3, 8, 4, 4, 4, 4, 1, 6, 2, 3, 3, 1, 5, 7, 1, 3, 4, 3, 3, 1, 2, 0, 8, 4, 0, 5, 3, 3, 3, 8, 1, 4, 3, 6, 5, 1, 9, 1, 0, 5, 3, 2, 4, 3, 0, 3, 0, 0, 3, 2, 8, 3, 0, 2, 0, 1, 0, 1, 0, 4, 0, 1, 0, 4, 2, 9, 0, 1, 6, 1, 2, 4, 7, 0, 1, 2, 3, 4, 3, 6, 3, 0, 7, 0, 1, 2, 3, 4, 3, 6, 2, 0, 3, 0, 1, 2, 3, 4, 3, 5, 2, 0, 7, 8, 0, 3, 6, 6, 0, 8, 0, 2, 3, 3, 7, 4, 3, 1, 3, 1, 2, 1, 4, 0, 0, 4, 1, 2, 3, 3, 1, 3, 3, 3, 6, 5, 3, 2, 4, 3, 0, 2, 3, 2, 5, 0, 0, 3, 4, 3, 3, 4, 8, 1, 3, 3, 0, 5, 4, 3, 5, 3, 3, 8, 1, 4, 3, 3, 7, 2, 2, 0, 0, 1, 3, 3, 3, 3, 7, 8, 7, 0, 7, 5, 2, 3, 5, 1, 2, 7, 8, 7, 3, 2, 5, 2, 4, 8, 4, 5, 3, 0, 1, 3, 6, 3, 3, 3, 0, 1, 2, 3, 4, 5, 0, 7, 8, 3, 0, 1, 2, 3, 4, 3, 0, 3, 8, 7, 7, 4, 1, 0, 7, 0, 1, 5, 3, 3, 0, 2, 3, 3, 4, 4, 6, 1, 0, 4, 3, 3, 7, 4, 2, 0, 5, 0, 1, 3, 1, 7, 8, 0, 0, 1, 1, 3, 0, 4, 2, 3, 0, 3, 0, 0, 3, 3, 5, 4, 1, 4, 1, 3, 3, 5, 0, 2, 0, 6, 3, 1, 2, 3, 5, 1, 9, 3, 3, 1, 3, 7, 0, 2, 1, 4, 0, 2, 7, 3, 0, 1, 2, 3, 4, 3, 6, 7, 0, 1, 1, 3, 4, 3, 0, 1, 1, 3, 7, 1, 4, 0, 7, 3, 0, 0, 0, 7, 7, 1, 1, 2, 7, 3, 0, 3, 2, 3, 3, 1, 2, 9, 5, 5, 7, 1, 7, 1, 1, 0, 3, 4, 1, 0, 4, 7, 4, 2, 1, 4, 7, 1, 0, 0, 0, 3, 3, 3, 3, 3, 3, 2, 4, 0, 3, 7, 0, 7, 3, 0, 3, 0, 7, 1, 2, 1, 0, 0, 0, 1, 2, 3, 1, 5, 6, 1, 5, 4, 0, 1, 2, 3, 1, 5, 6, 7, 5, 7, 0, 1, 2, 3, 4, 3, 6, 7, 8, 4, 3, 3, 3, 2, 9, 3, 1, 1, 1, 3, 2, 2, 3, 2, 1, 3, 3, 7, 1, 5, 2, 5, 4, 1, 5, 5, 7, 3, 1, 0, 0, 3, 3, 3, 7, 3, 0, 2, 1, 3, 7, 4, 6, 1, 2, 3, 0, 7, 3, 3, 0, 3, 5, 2, 4, 5, 1, 5, 2, 5, 3, 0, 0, 0, 3, 7, 1, 0, 1, 2, 6, 6, 0, 2, 3, 1, 1, 3, 5, 6, 3, 3, 3, 5, 3, 3, 7, 8, 5, 6, 4, 7, 6, 1, 1, 0, 7, 4, 0, 1, 2, 3, 4, 3, 0, 7, 8, 7, 0, 1, 2, 3, 3, 0, 0, 1, 2, 3, 4, 3, 2, 5, 1, 1, 3, 2, 2, 0, 2, 3, 9, 0, 6, 0, 7, 4, 1, 3, 2, 1, 2, 3, 0, 3, 1, 0, 5, 6, 0, 2, 3, 4, 8, 1, 8, 0, 3, 3, 3, 4, 1, 9, 2, 1, 9, 6, 2, 3, 0, 4, 6, 1, 3, 3, 5, 3, 1, 7, 0, 3, 5, 3, 9, 0, 3, 3, 1, 6, 1, 0, 3, 3, 3, 4, 4, 0, 5, 2, 3, 4, 2, 3, 4, 0, 0, 0, 2, 0, 1, 4, 3, 6, 0, 5, 4, 0, 1, 2, 3, 2, 3, 0, 4, 8, 0, 1, 2, 3, 4, 3, 5, 4, 5, 7, 2, 4, 1, 3, 7, 3, 1, 3, 0, 7, 3, 9, 9, 0, 9, 1, 1, 3, 3, 3, 0, 3, 2, 1, 0, 3, 2, 0, 3, 5, 0, 0, 1, 0, 3, 3, 1, 3, 2, 1, 7, 6, 0, 4, 0, 1, 7, 3, 3, 4, 2, 3, 0, 3, 8, 3, 1, 4, 1, 0, 1, 0, 4, 5, 1, 3, 4, 1, 3, 4, 4, 6, 0, 0, 1, 0, 1, 0, 3, 4, 3, 0, 3, 3, 3, 0, 1, 2, 3, 4, 3, 0, 3, 8, 9, 0, 1, 2, 3, 4, 3, 0, 3, 8, 3, 3, 2, 3, 0, 0, 3, 3, 4, 1, 3, 3, 5, 0, 4, 3, 9, 1, 4, 0, 3, 3, 0, 1, 3, 4, 0, 2, 6, 0, 1, 3, 0, 4, 3, 9, 3, 1, 3, 7, 3, 2, 0, 3, 1, 3, 3, 1, 3, 2, 3, 1, 4, 2, 0, 0, 2, 3, 4, 4, 4, 3, 3, 3, 3, 3, 2, 3, 6, 3, 5, 3, 6, 3, 0, 2, 4, 2, 4, 0, 2, 3, 3, 1, 3, 3, 3, 1, 8, 3, 2, 2, 3, 3, 3, 3, 2, 1, 5, 1, 3, 0, 1, 1, 3, 4, 5, 0, 3, 8, 3, 0, 1, 1, 3, 4, 5, 6, 3, 0, 3, 0, 1, 1, 3, 4, 5, 6, 2, 0, 3, 1, 1, 0, 3, 3, 0, 3, 0, 4, 1, 4, 3, 0, 3, 2, 3, 1, 2, 1, 1, 8, 0, 0, 1, 3, 0, 1, 2, 5, 7, 6, 1, 3, 1, 3, 0, 0, 0, 0, 0, 1, 0, 5, 1, 5, 8, 4, 3, 0, 1, 3, 4, 4, 3, 5, 7, 3, 3, 8, 3, 4, 0, 5, 3, 2, 8, 3, 1, 3, 0, 1, 0, 7, 3, 3, 4, 3, 4, 3, 3, 3, 8, 3, 4, 4, 3, 0, 6, 1, 0, 1, 2, 3, 4, 5, 0, 7, 3, 4, 0, 1, 2, 3, 4, 3, 6, 7, 3, 7, 0, 1, 2, 3, 4, 3, 6, 2, 8, 4, 0, 3, 3, 7, 3, 3, 2, 0, 8, 4, 3, 1, 7, 1, 2, 3, 5, 4, 6, 4, 1, 1, 1, 2, 3, 3, 6, 3, 1, 2, 0, 7, 4, 3, 8, 2, 7, 8, 7, 0, 4, 6, 2, 1, 3, 4, 3, 6, 0, 3, 4, 8, 3, 0, 4, 2, 7, 4, 7, 5, 4, 3, 4, 2, 8, 1, 3, 1, 2, 0, 2, 5, 6, 4, 3, 0, 0, 0, 3, 3, 3, 3, 0, 0, 4, 8, 8, 5, 3, 4, 0, 7, 4, 3, 2, 2, 2, 1, 0, 1, 2, 3, 4, 3, 4, 3, 8, 9, 0, 1, 2, 3, 4, 5, 0, 3, 8, 0, 1, 2, 3, 4, 3, 0, 3, 2, 2, 1, 3, 2, 3, 0, 8, 0, 1, 3, 5, 0, 3, 6, 0, 2, 2, 0, 6, 1, 2, 3, 2, 7, 3, 4, 7, 2, 3, 3, 4, 3, 4, 2, 3, 8, 4, 1, 1, 4, 7, 4, 3, 3, 3, 3, 0, 2, 3, 3, 0, 0, 3, 3, 0, 5, 4, 3, 2, 4, 1, 0, 0, 0, 7, 0, 0, 2, 3, 0, 1, 1, 3, 8, 9, 2, 3, 3, 3, 3, 4, 2, 1, 9, 2, 7, 2, 0, 0, 0, 4, 0, 0, 1, 2, 3, 4, 4, 2, 7, 0, 1, 2, 3, 7, 0, 4, 0, 1, 2, 3, 4, 7, 2, 4, 7, 3, 0, 3, 1, 8, 7, 6, 4, 0, 2, 0, 8, 2, 2, 8, 1, 2, 0, 7, 1, 0, 4, 4, 5, 8, 0, 6, 2, 3, 1, 3, 1, 8, 5, 9, 4, 0, 7, 3, 8, 2, 3, 8, 7, 2, 5, 2, 5, 3, 1, 7, 3, 0, 1, 9, 9, 5, 0, 3, 8, 2, 2, 1, 4, 3, 5, 2, 9, 2, 5, 0, 7, 3, 0, 1, 2, 4, 5, 0, 0, 1, 2, 3, 4, 3, 0, 3, 1, 2, 3, 4, 3, 1, 0, 4, 3, 0, 6, 3, 4, 4, 2, 4, 1, 0, 2, 2, 3, 3, 2, 3, 3, 4, 2, 0, 3, 3, 3, 3, 1, 3, 2, 3, 2, 7, 3, 4, 0, 2, 4, 0, 2, 4, 3, 8, 0, 2, 0, 0, 9, 3, 2, 8, 6, 0, 3, 7, 3, 1, 0, 7, 1, 5, 3, 2, 5, 1, 5, 5, 3, 0, 0, 6, 2, 0, 1, 0, 5, 0, 1, 1, 3, 3, 4, 9, 1, 3, 6, 8, 9, 0, 1, 2, 3, 4, 3, 5, 2, 5, 5, 0, 1, 2, 3, 4, 2, 5, 7, 5, 1, 2, 3, 7, 4, 5, 4, 0, 4, 1, 2, 2, 3, 3, 2, 0, 0, 0, 1, 8, 0, 1, 2, 6, 3, 2, 1, 3, 1, 3, 7, 1, 2, 5, 0, 4, 1, 4, 3, 6, 4, 6, 1, 4, 4, 2, 2, 4, 4, 0, 1, 2, 3, 4, 3, 6, 2, 5, 8, 0, 1, 2, 3, 4, 5, 5, 8, 0, 1, 2, 3, 4, 2, 5, 1, 3, 3, 1, 7, 2, 2, 1, 4, 5, 3, 4, 4, 3, 0, 7, 4, 1, 2, 3, 5, 4, 1, 5, 0, 1, 0, 0, 1, 7, 7, 1, 1, 4, 0, 4, 2, 3, 5, 5, 0, 3, 3, 4, 0, 0, 8, 2, 0, 5, 6, 0, 4, 0, 4, 0, 5, 1, 4, 2, 0, 4, 5, 1, 2, 7, 6, 4, 3, 0, 2, 2, 0, 1, 1, 3, 4, 3, 6, 1, 8, 4, 0, 1, 2, 3, 4, 3, 0, 2, 3, 4, 0, 1, 1, 3, 4, 3, 6, 1, 2, 4, 2, 1, 3, 2, 3, 0, 3, 0, 2, 3, 3, 3, 3, 0, 6, 0, 2, 3, 6, 4, 1, 2, 3, 8, 1, 2, 4, 7, 3, 3, 3, 4, 3, 4, 3, 3, 3, 4, 3, 4, 1, 1, 4, 2, 0, 3, 2, 3, 3, 0, 2, 3, 3, 6, 3, 1, 3, 1, 3, 3, 4, 8, 4, 1, 0, 0, 0, 3, 0, 2, 8, 3, 6, 1, 1, 7, 2, 9, 2, 3, 3, 3, 4, 4, 2, 1, 9, 4, 3, 1, 3, 1, 1, 0, 6, 0, 4, 0, 4, 0, 1, 2, 3, 4, 3, 6, 7, 8, 7, 0, 1, 2, 3, 4, 3, 0, 0, 7, 4, 0, 1, 2, 3, 4, 5, 6, 2, 8, 4, 3, 8, 0, 3, 1, 0, 3, 3, 3, 6, 7, 0, 1, 0, 0, 8, 3, 4, 3, 1, 3, 0, 0, 9, 3, 3, 4, 9, 3, 2, 4, 3, 2, 4, 3, 3, 2, 3, 4, 3, 4, 8, 4, 1, 2, 2, 3, 3, 1, 3, 2, 3, 4, 3, 8, 2, 2, 1, 2, 3, 6, 3, 1, 6, 2, 2, 1, 3, 8, 3, 8, 3, 3, 7, 0, 7, 4, 8, 5, 5, 0, 0, 0, 3, 2, 0, 7, 9, 4, 0, 4, 1, 0, 6, 0, 0, 1, 1, 3, 4, 5, 6, 2, 8, 7, 0, 1, 1, 3, 4, 5, 6, 2, 5, 7, 0, 1, 1, 3, 4, 5, 6, 3, 2, 7, 3, 4, 0, 4, 0, 1, 2, 7, 5, 1, 4, 1, 3, 9, 4, 3, 3, 3, 1, 4, 4, 3, 3, 6, 9, 7, 3, 8, 6, 2, 0, 0, 8, 1, 0, 3, 4, 3, 1, 8, 4, 1, 2, 4, 8, 8, 9, 0, 3, 3, 7, 0, 3, 1, 7, 4, 1, 0, 3, 2, 5, 8, 2, 2, 8, 2, 7, 2, 1, 2, 6, 4, 2, 5, 2, 3, 0, 6, 5, 0, 0, 2, 8, 1, 6, 1, 0, 4, 3, 1, 0, 1, 7, 0, 1, 4, 3, 5, 3, 3, 7, 1, 2, 3, 4, 3, 5, 3, 0, 1, 2, 3, 4, 5, 5, 0, 3, 7, 3, 4, 0, 0, 2, 2, 4, 3, 2, 5, 5, 3, 2, 2, 3, 3, 3, 1, 4, 7, 3, 0, 3, 1, 3, 0, 1, 9, 1, 2, 2, 0, 1, 2, 5, 2, 7, 2, 2, 5, 3, 5, 4, 7, 3, 2, 3, 1, 3, 0, 3, 4, 3, 1, 7, 0, 3, 3, 5, 2, 7, 0, 1, 0, 3, 3, 2, 0, 7, 0, 1, 2, 3, 4, 3, 5, 2, 3, 4, 0, 1, 2, 3, 4, 5, 0, 7, 0, 4, 0, 1, 2, 3, 4, 3, 6, 3, 8, 9, 1, 3, 4, 8, 1, 3, 0, 3, 3, 2, 0, 0, 3, 3, 0, 4, 3, 4, 0, 3, 1, 7, 1, 3, 1, 3, 1, 3, 2, 2, 3, 0, 6, 4, 3, 2, 0, 3, 0, 4, 3, 1, 4, 0, 0, 1, 1, 4, 7, 2, 1, 3, 3, 3, 1, 0, 7, 0, 3, 6, 1, 7, 4, 3, 0, 1, 3, 4, 0, 0, 0, 3, 3, 3, 1, 3, 2, 4, 9, 0, 3, 4, 0, 4, 8, 4, 0, 2, 0, 3, 4, 2, 4, 2, 3, 4, 1, 3, 3, 3, 1, 2, 3, 4, 3, 0, 1, 2, 3, 4, 0, 0, 1, 2, 4, 5, 0, 2, 5, 1, 2, 2, 4, 1, 4, 1, 4, 4, 0, 5, 4, 3, 3, 2, 3, 4, 3, 3, 5, 0, 2, 0, 4, 1, 0, 4, 2, 0, 1, 3, 0, 5, 5, 0, 1, 5, 5, 4, 2, 3, 5, 2, 6, 9, 1, 4, 0, 0, 2, 1, 2, 3, 4, 2, 4, 5, 3, 2, 2, 3, 3, 1, 5, 2, 2, 3, 0, 2, 4, 4, 4, 2, 0, 2, 2, 4, 3, 4, 1, 3, 4, 8, 3, 8, 0, 2, 0, 0, 1, 1, 3, 4, 3, 5, 7, 0, 7, 0, 1, 2, 3, 4, 5, 5, 7, 0, 9, 0, 1, 2, 3, 4, 5, 6, 7, 0, 7, 0, 0, 7, 1, 0, 3, 5, 3, 2, 3, 0, 6, 0, 5, 4, 3, 0, 3, 3, 0, 1, 9, 0, 3, 4, 1, 9, 1, 1, 4, 0, 1, 3, 8, 1, 9, 2, 7, 1, 1, 0, 5, 3, 4, 9, 1, 1, 3, 3, 6, 8, 2, 9, 4, 3, 1, 9, 0, 7, 3, 0, 3, 3, 0, 1, 0, 3, 0, 2, 7, 7, 0, 1, 2, 3, 4, 3, 0, 2, 0, 3, 0, 1, 2, 3, 4, 3, 8, 3, 0, 1, 0, 3, 4, 5, 6, 7, 5, 9, 2, 1, 2, 1, 3, 4, 8, 5, 5, 3, 2, 0, 2, 2, 5, 3, 4, 9, 4, 3, 0, 3, 4, 1, 3, 5, 1, 4, 8, 4, 1, 0, 0, 0, 4, 6, 0, 3, 3, 3, 3, 3, 2, 1, 5, 9, 6, 9, 2, 6, 2, 1, 0, 0, 5, 3, 3, 3, 0, 3, 2, 4, 9, 3, 0, 7, 2, 0, 0, 4, 0, 0, 7, 1, 0, 2, 3, 0, 5, 3, 3, 2, 1, 0, 3, 3, 5, 1, 0, 2, 1, 4, 0, 1, 2, 3, 4, 5, 6, 3, 2, 7, 0, 1, 2, 3, 4, 3, 6, 2, 3, 7, 0, 1, 2, 3, 4, 3, 6, 2, 2, 7, 3, 6, 4, 7, 0, 2, 3, 4, 8, 7, 3, 6, 7, 8, 3, 2, 1, 4, 4, 8, 3, 6, 3, 0, 2, 0, 1, 1, 2, 3, 6, 8, 2, 1, 0, 0, 5, 2, 7, 3, 3, 2, 7, 2, 3, 1, 3, 3, 5, 1, 7, 5, 3, 0, 1, 1, 7, 8, 2, 0, 0, 4, 5, 0, 2, 1, 3, 5, 2, 5, 7, 4, 3, 0, 3, 1, 4, 4, 0, 4, 8, 0, 1, 2, 3, 5, 0, 7, 0, 0, 1, 2, 2, 5, 6, 7, 0, 4, 0, 1, 2, 2, 5, 6, 2, 0, 9, 7, 7, 0, 4, 0, 1, 5, 2, 0, 0, 7, 3, 2, 2, 0, 4, 6, 1, 0, 4, 7, 4, 2, 0, 5, 0, 1, 0, 4, 3, 2, 4, 1, 6, 0, 1, 1, 5, 2, 2, 6, 2, 6, 0, 3, 2, 4, 1, 7, 0, 6, 7, 1, 2, 5, 0, 1, 5, 2, 8, 7, 0, 0, 1, 1, 6, 2, 9, 3, 0, 1, 2, 3, 4, 5, 5, 2, 0, 9, 0, 1, 0, 3, 4, 2, 6, 2, 8, 7, 0, 1, 2, 3, 4, 3, 0, 2, 0, 4, 0, 4, 3, 2, 0, 3, 1, 5, 8, 4, 1, 5, 6, 4, 2, 2, 0, 1, 3, 4, 3, 4, 2, 2, 0, 3, 0, 1, 4, 1, 3, 2, 3, 5, 3, 2, 0, 2, 3, 3, 3, 1, 1, 7, 0, 2, 0, 0, 4, 8, 0, 3, 8, 0, 7, 6, 2, 8, 0, 1, 0, 6, 2, 3, 0, 4, 0, 2, 2, 3, 4, 3, 3, 2, 8, 5, 4, 6, 6, 6, 2, 3, 1, 8, 2, 1, 5, 3, 4, 2, 3, 4, 0, 0, 0, 1, 1, 3, 4, 0, 2, 3, 0, 3, 0, 1, 1, 3, 4, 3, 5, 7, 8, 4, 0, 1, 1, 3, 4, 3, 0, 4, 0, 1, 3, 1, 5, 1, 2, 4, 4, 1, 4, 0, 0, 0, 1, 1, 4, 2, 6, 5, 0, 3, 4, 1, 4, 3, 0, 2, 1, 0, 3, 0, 0, 1, 2, 3, 4, 5, 5, 3, 8, 8, 0, 1, 2, 3, 4, 5, 5, 3, 8, 4, 0, 1, 2, 3, 4, 3, 6, 2, 5, 8, 8, 5, 5, 9, 2, 0, 1, 3, 4, 3, 8, 5, 1, 3, 2, 3, 0, 1, 2, 1, 3, 1, 0, 5, 3, 0, 1, 2, 3, 4, 5, 4, 0, 5, 7, 2, 3, 4, 3, 3, 1, 2, 4, 2, 5, 5, 4, 0, 0, 0, 6, 2, 0, 6, 3, 2, 2, 4, 4, 3, 9, 2, 5, 9, 6, 0, 9, 5, 3, 0, 8, 3, 1, 4, 0, 4, 2, 5, 2, 3, 4, 0, 1, 4, 1, 5, 1, 3, 4, 5, 5, 2, 1, 5, 0, 0, 0, 1, 2, 3, 4, 2, 0, 4, 0, 1, 2, 3, 4, 5, 2, 8, 8, 0, 1, 2, 1, 4, 2, 8, 4, 1, 4, 5, 3, 3, 0, 4, 5, 4, 3, 0, 4, 4, 5, 2, 0, 2, 2, 1, 6, 4, 1, 3, 5, 2, 3, 4, 2, 3, 8, 9, 5, 8, 5, 2, 1, 0, 1, 1, 0, 3, 4, 1, 4, 4, 2, 4, 2, 2, 4, 0, 9, 2, 3, 8, 0, 1, 3, 5, 3, 3, 4, 8, 5, 3, 0, 4, 0, 6, 3, 0, 5, 1, 0, 0, 0, 1, 2, 3, 4, 5, 0, 7, 0, 1, 2, 3, 4, 7, 0, 7, 0, 1, 2, 3, 4, 2, 2, 3, 1, 5, 4, 3, 9, 7, 0, 8, 7, 1, 6, 4, 3, 6, 2, 0, 8, 5, 6, 5, 0, 0, 0, 1, 5, 4, 3, 2, 4, 1, 3, 3, 6, 4, 2, 7, 7, 7, 5, 4, 3, 5, 2, 5, 3, 3, 5, 0, 3, 4, 7, 1, 3, 1, 2, 9, 6, 2, 0, 9, 1, 7, 3, 3, 4, 1, 0, 4, 3, 7, 8, 2, 1, 8, 4, 4, 1, 5, 5, 6, 3, 0, 1, 2, 3, 4, 3, 0, 2, 0, 3, 0, 1, 2, 3, 4, 3, 0, 1, 3, 3, 0, 1, 2, 3, 4, 3, 4, 2, 8, 3, 6, 7, 2, 0, 2, 3, 4, 3, 0, 5, 1, 3, 0, 1, 2, 1, 3, 2, 0, 1, 1, 0, 4, 0, 3, 7, 3, 2, 3, 5, 3, 1, 1, 4, 2, 0, 0, 5, 0, 0, 3, 2, 4, 1, 5, 8, 8, 1, 1, 4, 0, 4, 3, 3, 2, 3, 9, 0, 1, 3, 1, 3, 1, 1, 6, 1, 2, 1, 6, 0, 0, 1, 2, 3, 4, 3, 0, 2, 8, 9, 0, 1, 2, 3, 4, 3, 0, 1, 3, 0, 1, 2, 3, 3, 0, 2, 3, 1, 0, 4, 3, 0, 0, 3, 4, 4, 2, 3, 1, 0, 0, 4, 7, 1, 2, 9, 2, 0, 7, 3, 3, 9, 1, 3, 2, 3, 1, 4, 1, 3, 2, 8, 4, 0, 2, 4, 0, 2, 4, 3, 8, 0, 7, 0, 0, 7, 3, 2, 4, 8, 4, 0, 3, 3, 3, 1, 0, 3, 1, 0, 3, 2, 9, 3, 7, 3, 0, 3, 1, 6, 2, 8, 1, 3, 3, 3, 3, 3, 3, 0, 1, 1, 3, 3, 4, 7, 4, 3, 1, 3, 0, 3, 7, 0, 1, 2, 3, 4, 5, 6, 2, 5, 7, 0, 1, 2, 3, 4, 3, 6, 2, 5, 9, 0, 1, 2, 3, 4, 5, 6, 7, 5, 7, 3, 5, 3, 2, 4, 3, 2, 1, 4, 5, 3, 2, 3, 1, 1, 3, 4, 2, 1, 1, 2, 5, 8, 1, 3, 8, 3, 3, 1, 0, 0, 4, 2, 2, 8, 3, 3, 0, 6, 1, 3, 2, 4, 5, 1, 2, 5, 0, 3, 4, 9, 0, 3, 4, 4, 8, 4, 1, 8, 6, 5, 9, 0, 0, 0, 3, 3, 1, 0, 4, 0, 0, 4, 3, 4, 1, 3, 3, 6, 3, 8, 8, 5, 9, 3, 3, 3, 3, 6, 4, 3, 6, 2, 2, 0, 7, 4, 0, 1, 2, 3, 4, 5, 0, 3, 8, 9, 0, 1, 2, 3, 4, 3, 0, 2, 8, 9, 0, 1, 2, 3, 4, 5, 6, 2, 8, 9, 6, 4, 2, 6, 4, 7, 5, 5, 4, 3, 2, 4, 3, 4, 3, 0, 2, 0, 4, 3, 4, 0, 1, 0, 6, 5, 3, 5, 3, 8, 0, 0, 3, 4, 1, 5, 3, 0, 8, 3, 0, 0, 2, 3, 8, 1, 3, 1, 3, 8, 3, 4, 2, 0, 4, 7, 6, 2, 4, 1, 6, 2, 0, 2, 1, 7, 0, 0, 4, 4, 4, 4, 4, 0, 2, 3, 0, 1, 9, 2, 2, 3, 3, 2, 8, 0, 1, 2, 3, 4, 7, 8, 7, 0, 1, 2, 3, 4, 2, 8, 7, 0, 1, 7, 2, 7, 8, 9, 2, 6, 1, 3, 3, 4, 8, 2, 5, 4, 3, 4, 5, 7, 2, 0, 3, 9, 4, 7, 7, 3, 8, 2, 4, 4, 9, 8, 3, 8, 1, 5, 6, 2, 3, 1, 3, 2, 7, 3, 1, 4, 0, 1, 1, 3, 5, 0, 0, 8, 1, 3, 1, 4, 5, 0, 0, 4, 7, 1, 0, 5, 4, 0, 2, 0, 1, 1, 0, 1, 1, 3, 4, 2, 2, 3, 4, 5, 0, 2, 0, 1, 2, 2, 8, 6, 3, 7, 2, 1, 9, 3, 7, 0, 1, 2, 2, 4, 4, 5, 2, 0, 0, 1, 5, 6, 8, 1, 2, 2, 2, 4, 1, 1, 5, 1, 0, 5, 7, 0, 3, 3, 5, 3, 0, 1, 2, 2, 4, 3, 0, 7, 8, 4, 0, 1, 1, 3, 4, 3, 0, 2, 5, 3, 0, 1, 2, 3, 4, 5, 0, 2, 8, 4, 1, 6, 3, 7, 9, 0, 1, 1, 4, 4, 3, 3, 4, 4, 4, 0, 3, 3, 7, 3, 3, 1, 1, 7, 5, 3, 8, 3, 2, 5, 1, 1, 6, 2, 1, 3, 5, 2, 4, 2, 0, 1, 3, 5, 0, 1, 3, 0, 0, 3, 1, 7, 9, 1, 3, 1, 6, 7, 0, 5, 5, 7, 4, 9, 1, 1, 3, 3, 0, 3, 5, 3, 0, 2, 7, 9, 7, 0, 2, 7, 9, 1, 4, 3, 0, 3, 5, 3, 0, 0, 1, 1, 3, 4, 5, 0, 7, 0, 7, 0, 1, 1, 3, 4, 3, 6, 2, 8, 4, 0, 1, 1, 3, 4, 2, 0, 4, 0, 4, 2, 0, 1, 7, 8, 4, 1, 4, 3, 4, 3, 0, 0, 1, 0, 4, 2, 0, 2, 3, 3, 0, 3, 4, 1, 5, 3, 0, 2, 3, 0, 0, 1, 7, 8, 0, 7, 1, 6, 7, 1, 4, 0, 7, 4, 4, 7, 6, 7, 1, 2, 5, 3, 2, 8, 0, 1, 2, 4, 3, 6, 1, 3, 3, 0, 1, 3, 4, 5, 0, 2, 3, 0, 1, 3, 4, 2, 5, 9, 2, 5, 5, 1, 3, 3, 3, 1, 0, 0, 3, 9, 2, 1, 2, 2, 2, 3, 0, 3, 3, 2, 0, 0, 6, 1, 1, 3, 3, 0, 2, 3, 4, 3, 5, 2, 1, 0, 8, 2, 2, 3, 3, 3, 3, 4, 6, 1, 1, 3, 3, 0, 1, 2, 1, 6, 4, 1, 0, 4, 1, 3, 4, 2, 0, 4, 3, 6, 1, 4, 0, 2, 3, 6, 9, 3, 6, 3, 4, 0, 1, 2, 3, 4, 3, 6, 2, 5, 4, 0, 1, 2, 3, 4, 3, 0, 2, 5, 9, 0, 1, 2, 3, 3, 0, 2, 3, 1, 0, 4, 3, 0, 3, 1, 8, 6, 4, 0, 4, 1, 9, 3, 5, 4, 4, 1, 0, 1, 3, 2, 3, 2, 3, 2, 3, 4, 6, 0, 0, 3, 3, 3, 3, 3, 3, 6, 1, 1, 0, 6, 1, 0, 0, 0, 2, 1, 1, 3, 2, 3, 2, 8, 5, 7, 5, 4, 4, 0, 2, 0, 7, 0, 3, 5, 8, 7, 1, 3, 4, 4, 3, 2, 2, 4, 9, 4, 3, 0, 2, 2, 3, 3, 2, 5, 3, 9, 4, 1, 7, 2, 0, 1, 2, 3, 1, 3, 5, 1, 8, 4, 0, 1, 2, 3, 4, 5, 0, 2, 0, 8, 0, 1, 2, 3, 4, 5, 6, 2, 8, 4, 1, 0, 1, 2, 7, 5, 3, 4, 4, 0, 0, 0, 8, 0, 0, 5, 0, 2, 3, 4, 4, 8, 1, 4, 0, 3, 7, 3, 7, 2, 3, 1, 4, 4, 0, 9, 7, 6, 1, 8, 3, 3, 3, 3, 9, 0, 8, 4, 3, 2, 6, 1, 1, 4, 2, 3, 8, 5, 7, 1, 2, 3, 7, 3, 3, 3, 5, 0, 2, 4, 3, 4, 5, 1, 4, 1, 1, 2, 3, 2, 0, 1, 5, 0, 1, 1, 3, 4, 5, 0, 2, 2, 7, 0, 1, 2, 3, 4, 5, 0, 2, 3, 9, 0, 1, 2, 3, 4, 3, 0, 2, 8, 3, 0, 5, 0, 0, 1, 3, 2, 7, 4, 1, 1, 3, 1, 1, 1, 4, 0, 0, 1, 2, 3, 2, 1, 3, 3, 3, 1, 5, 4, 2, 1, 3, 0, 2, 0, 0, 2, 7, 4, 3, 3, 4, 5, 1, 5, 7, 0, 0, 3, 3, 8, 1, 4, 0, 3, 1, 0, 0, 1, 0, 5, 1, 5, 3, 3, 1, 3, 5, 1, 5, 7, 5, 1, 0, 1, 2, 3, 4, 5, 5, 7, 0, 7, 0, 1, 2, 3, 4, 3, 6, 3, 0, 4, 0, 1, 2, 3, 4, 0, 5, 7, 3, 7, 4, 4, 5, 1, 4, 0, 4, 7, 2, 7, 1, 0, 4, 3, 8, 3, 3, 0, 0, 0, 5, 5, 5, 0, 3, 8, 1, 0, 0, 0, 4, 7, 4, 7, 0, 3, 0, 7, 1, 7, 1, 6, 6, 0, 5, 0, 3, 7, 5, 0, 4, 3, 3, 3, 7, 4, 3, 0, 9, 0, 6, 1, 1, 3, 2, 1, 0, 0, 1, 2, 3, 4, 1, 3, 4, 0, 1, 0, 3, 4, 5, 5, 3, 8, 0, 1, 2, 3, 4, 3, 5, 9, 0, 8, 3, 4, 3, 1, 2, 0, 5, 4, 1, 3, 1, 3, 2, 5, 5, 4, 1, 1, 1, 2, 1, 2, 0, 3, 3, 3, 5, 2, 5, 8, 3, 2, 3, 4, 0, 5, 3, 0, 4, 2, 3, 3, 5, 4, 3, 4, 2, 8, 1, 5, 1, 0, 0, 3, 3, 1, 7, 0, 5, 5, 0, 3, 9, 7, 5, 2, 3, 3, 1, 0, 1, 3, 8, 4, 0, 1, 2, 3, 4, 5, 5, 2, 5, 0, 1, 2, 3, 4, 7, 8, 9, 7, 8, 6, 4, 1, 7, 3, 4, 4, 4, 7, 0, 1, 7, 2, 3, 3, 5, 2, 5, 0, 0, 5, 3, 3, 3, 4, 1, 4, 0, 0, 1, 0, 0, 0, 2, 1, 1, 0, 3, 3, 4, 6, 0, 0, 0, 3, 0, 3, 2, 1, 3, 2, 4, 4, 4, 3, 0, 4, 1, 2, 2, 0, 3, 0, 1, 1, 1, 4, 3, 6, 1, 5, 4, 0, 1, 2, 3, 4, 5, 6]\n"
          ]
        }
      ]
    },
    {
      "cell_type": "code",
      "source": [
        "conf_mat=confusion_matrix(ytest,y_pred)"
      ],
      "metadata": {
        "id": "LR0Kf68NKugh"
      },
      "execution_count": 45,
      "outputs": []
    },
    {
      "cell_type": "code",
      "source": [
        "print(conf_mat)"
      ],
      "metadata": {
        "colab": {
          "base_uri": "https://localhost:8080/"
        },
        "id": "NGxB1ob8L5pe",
        "outputId": "afb63e5c-c811-4dd7-bc79-f1376ff6ec7d"
      },
      "execution_count": 46,
      "outputs": [
        {
          "output_type": "stream",
          "name": "stdout",
          "text": [
            "tf.Tensor(\n",
            "[[ 976    0    0    3    0    1    0    0    0    0]\n",
            " [   0 1130    0    1    0    1    1    0    2    0]\n",
            " [  55  208  762    2    1    1    0    0    2    1]\n",
            " [   3    6   39  959    0    2    0    1    0    0]\n",
            " [  10   18   19    1  932    0    0    1    0    1]\n",
            " [   8    3    2  556    2  319    0    1    0    1]\n",
            " [ 405    3   14    4   34  249  249    0    0    0]\n",
            " [  30  138  344  250   20    3    1  242    0    0]\n",
            " [ 100    4   50  313   15  165    6   11  310    0]\n",
            " [  15    8    2  215  271   12    0  220   47  219]], shape=(10, 10), dtype=int32)\n"
          ]
        }
      ]
    },
    {
      "cell_type": "code",
      "source": [
        "plt.figure(figsize=(7,5))\n",
        "sns.heatmap(conf_mat,annot=True,fmt='d',cmap='Greens')\n",
        "plt.xlabel('Predicted')\n",
        "plt.ylabel('Truth')\n",
        "plt.show"
      ],
      "metadata": {
        "colab": {
          "base_uri": "https://localhost:8080/",
          "height": 633
        },
        "id": "r-_3f0nDL7lL",
        "outputId": "289f6ce4-a1e6-4a84-f41c-be851769b4e7"
      },
      "execution_count": 49,
      "outputs": [
        {
          "output_type": "execute_result",
          "data": {
            "text/plain": [
              "<function matplotlib.pyplot.show(close=None, block=None)>"
            ],
            "text/html": [
              "<div style=\"max-width:800px; border: 1px solid var(--colab-border-color);\"><style>\n",
              "      pre.function-repr-contents {\n",
              "        overflow-x: auto;\n",
              "        padding: 8px 12px;\n",
              "        max-height: 500px;\n",
              "      }\n",
              "\n",
              "      pre.function-repr-contents.function-repr-contents-collapsed {\n",
              "        cursor: pointer;\n",
              "        max-height: 100px;\n",
              "      }\n",
              "    </style>\n",
              "    <pre style=\"white-space: initial; background:\n",
              "         var(--colab-secondary-surface-color); padding: 8px 12px;\n",
              "         border-bottom: 1px solid var(--colab-border-color);\"><b>matplotlib.pyplot.show</b><br/>def show(*args, **kwargs)</pre><pre class=\"function-repr-contents function-repr-contents-collapsed\" style=\"\"><a class=\"filepath\" style=\"display:none\" href=\"#\">/usr/local/lib/python3.10/dist-packages/matplotlib/pyplot.py</a>Display all open figures.\n",
              "\n",
              "Parameters\n",
              "----------\n",
              "block : bool, optional\n",
              "    Whether to wait for all figures to be closed before returning.\n",
              "\n",
              "    If `True` block and run the GUI main loop until all figure windows\n",
              "    are closed.\n",
              "\n",
              "    If `False` ensure that all figure windows are displayed and return\n",
              "    immediately.  In this case, you are responsible for ensuring\n",
              "    that the event loop is running to have responsive figures.\n",
              "\n",
              "    Defaults to True in non-interactive mode and to False in interactive\n",
              "    mode (see `.pyplot.isinteractive`).\n",
              "\n",
              "See Also\n",
              "--------\n",
              "ion : Enable interactive mode, which shows / updates the figure after\n",
              "      every plotting command, so that calling ``show()`` is not necessary.\n",
              "ioff : Disable interactive mode.\n",
              "savefig : Save the figure to an image file instead of showing it on screen.\n",
              "\n",
              "Notes\n",
              "-----\n",
              "**Saving figures to file and showing a window at the same time**\n",
              "\n",
              "If you want an image file as well as a user interface window, use\n",
              "`.pyplot.savefig` before `.pyplot.show`. At the end of (a blocking)\n",
              "``show()`` the figure is closed and thus unregistered from pyplot. Calling\n",
              "`.pyplot.savefig` afterwards would save a new and thus empty figure. This\n",
              "limitation of command order does not apply if the show is non-blocking or\n",
              "if you keep a reference to the figure and use `.Figure.savefig`.\n",
              "\n",
              "**Auto-show in jupyter notebooks**\n",
              "\n",
              "The jupyter backends (activated via ``%matplotlib inline``,\n",
              "``%matplotlib notebook``, or ``%matplotlib widget``), call ``show()`` at\n",
              "the end of every cell by default. Thus, you usually don&#x27;t have to call it\n",
              "explicitly there.</pre>\n",
              "      <script>\n",
              "      if (google.colab.kernel.accessAllowed && google.colab.files && google.colab.files.view) {\n",
              "        for (const element of document.querySelectorAll('.filepath')) {\n",
              "          element.style.display = 'block'\n",
              "          element.onclick = (event) => {\n",
              "            event.preventDefault();\n",
              "            event.stopPropagation();\n",
              "            google.colab.files.view(element.textContent, 401);\n",
              "          };\n",
              "        }\n",
              "      }\n",
              "      for (const element of document.querySelectorAll('.function-repr-contents')) {\n",
              "        element.onclick = (event) => {\n",
              "          event.preventDefault();\n",
              "          event.stopPropagation();\n",
              "          element.classList.toggle('function-repr-contents-collapsed');\n",
              "        };\n",
              "      }\n",
              "      </script>\n",
              "      </div>"
            ]
          },
          "metadata": {},
          "execution_count": 49
        },
        {
          "output_type": "display_data",
          "data": {
            "text/plain": [
              "<Figure size 700x500 with 2 Axes>"
            ],
            "image/png": "[encoded data removed]"
          },
          "metadata": {}
        }
      ]
    },
    {
      "cell_type": "markdown",
      "source": [
        "Predictive System"
      ],
      "metadata": {
        "id": "MPRm25yGNIOZ"
      }
    },
    {
      "cell_type": "code",
      "source": [
        "input_img_path='/content/MNIST_digit.png'\n",
        "\n",
        "input_img=cv2.imread(input_img_path)"
      ],
      "metadata": {
        "id": "W7W9cYwWMcc_"
      },
      "execution_count": 75,
      "outputs": []
    },
    {
      "cell_type": "code",
      "source": [
        "type(input_img)"
      ],
      "metadata": {
        "colab": {
          "base_uri": "https://localhost:8080/"
        },
        "id": "rnr_onIcNtZs",
        "outputId": "af851170-187d-4f9e-a258-9fa0f80a9100"
      },
      "execution_count": 76,
      "outputs": [
        {
          "output_type": "execute_result",
          "data": {
            "text/plain": [
              "numpy.ndarray"
            ]
          },
          "metadata": {},
          "execution_count": 76
        }
      ]
    },
    {
      "cell_type": "code",
      "source": [
        "print(input_img)"
      ],
      "metadata": {
        "colab": {
          "base_uri": "https://localhost:8080/"
        },
        "id": "Y0Gux82fNvrw",
        "outputId": "c9c09b34-1b19-4f97-bca6-014682ca1828"
      },
      "execution_count": 77,
      "outputs": [
        {
          "output_type": "stream",
          "name": "stdout",
          "text": [
            "[[[0 0 0]\n",
            "  [0 0 0]\n",
            "  [0 0 0]\n",
            "  ...\n",
            "  [0 0 0]\n",
            "  [0 0 0]\n",
            "  [0 0 0]]\n",
            "\n",
            " [[0 0 0]\n",
            "  [0 0 0]\n",
            "  [0 0 0]\n",
            "  ...\n",
            "  [0 0 0]\n",
            "  [0 0 0]\n",
            "  [0 0 0]]\n",
            "\n",
            " [[0 0 0]\n",
            "  [0 0 0]\n",
            "  [0 0 0]\n",
            "  ...\n",
            "  [0 0 0]\n",
            "  [0 0 0]\n",
            "  [0 0 0]]\n",
            "\n",
            " ...\n",
            "\n",
            " [[0 0 0]\n",
            "  [0 0 0]\n",
            "  [0 0 0]\n",
            "  ...\n",
            "  [0 0 0]\n",
            "  [0 0 0]\n",
            "  [0 0 0]]\n",
            "\n",
            " [[0 0 0]\n",
            "  [0 0 0]\n",
            "  [0 0 0]\n",
            "  ...\n",
            "  [0 0 0]\n",
            "  [0 0 0]\n",
            "  [0 0 0]]\n",
            "\n",
            " [[0 0 0]\n",
            "  [0 0 0]\n",
            "  [0 0 0]\n",
            "  ...\n",
            "  [0 0 0]\n",
            "  [0 0 0]\n",
            "  [0 0 0]]]\n"
          ]
        }
      ]
    },
    {
      "cell_type": "code",
      "source": [
        "cv2_imshow(input_img)"
      ],
      "metadata": {
        "colab": {
          "base_uri": "https://localhost:8080/",
          "height": 335
        },
        "id": "MkC1e1oqN24R",
        "outputId": "c3c58298-c61c-44f4-eb9a-23ec41881284"
      },
      "execution_count": 78,
      "outputs": [
        {
          "output_type": "display_data",
          "data": {
            "text/plain": [
              "<PIL.Image.Image image mode=RGB size=318x318>"
            ],
            "image/png": "[encoded data removed]"
          },
          "metadata": {}
        }
      ]
    },
    {
      "cell_type": "code",
      "source": [
        "input_img.shape"
      ],
      "metadata": {
        "colab": {
          "base_uri": "https://localhost:8080/"
        },
        "id": "QMxTqw1gN_F_",
        "outputId": "05cad166-2a5c-4f8c-c818-ffb3070a32f2"
      },
      "execution_count": 79,
      "outputs": [
        {
          "output_type": "execute_result",
          "data": {
            "text/plain": [
              "(318, 318, 3)"
            ]
          },
          "metadata": {},
          "execution_count": 79
        }
      ]
    },
    {
      "cell_type": "code",
      "source": [
        "grayscale=cv2.cvtColor(input_img,cv2.COLOR_RGB2GRAY)"
      ],
      "metadata": {
        "id": "jmMpm1ehOEV8"
      },
      "execution_count": 80,
      "outputs": []
    },
    {
      "cell_type": "code",
      "source": [
        "grayscale.shape"
      ],
      "metadata": {
        "colab": {
          "base_uri": "https://localhost:8080/"
        },
        "id": "leiTX1hKOTWd",
        "outputId": "44e6fd7d-794c-4608-c39c-614789368d08"
      },
      "execution_count": 81,
      "outputs": [
        {
          "output_type": "execute_result",
          "data": {
            "text/plain": [
              "(318, 318)"
            ]
          },
          "metadata": {},
          "execution_count": 81
        }
      ]
    },
    {
      "cell_type": "code",
      "source": [
        "input_img_resize=cv2.resize(grayscale,(28,28))"
      ],
      "metadata": {
        "id": "Bgw7mEoQOc8C"
      },
      "execution_count": 82,
      "outputs": []
    },
    {
      "cell_type": "code",
      "source": [
        "input_img_resize.shape"
      ],
      "metadata": {
        "colab": {
          "base_uri": "https://localhost:8080/"
        },
        "id": "-L42entTOkEy",
        "outputId": "93419a0c-b029-4777-a4b2-517f38f9dc8a"
      },
      "execution_count": 83,
      "outputs": [
        {
          "output_type": "execute_result",
          "data": {
            "text/plain": [
              "(28, 28)"
            ]
          },
          "metadata": {},
          "execution_count": 83
        }
      ]
    },
    {
      "cell_type": "code",
      "source": [
        "cv2_imshow(input_img_resize)"
      ],
      "metadata": {
        "colab": {
          "base_uri": "https://localhost:8080/",
          "height": 45
        },
        "id": "Huiag4dTOyer",
        "outputId": "0c0d758e-8a7b-473b-995f-8b13476d0bcf"
      },
      "execution_count": 84,
      "outputs": [
        {
          "output_type": "display_data",
          "data": {
            "text/plain": [
              "<PIL.Image.Image image mode=L size=28x28>"
            ],
            "image/png": "[encoded data removed]"
          },
          "metadata": {}
        }
      ]
    },
    {
      "cell_type": "code",
      "source": [
        "input_img_resize=input_img_resize/255"
      ],
      "metadata": {
        "id": "fv_FxzYGO1GS"
      },
      "execution_count": 85,
      "outputs": []
    },
    {
      "cell_type": "code",
      "source": [
        "input_img_reshape=np.reshape(input_img_resize,(1,28,28))"
      ],
      "metadata": {
        "id": "FvlSPLp-PHwP"
      },
      "execution_count": 86,
      "outputs": []
    },
    {
      "cell_type": "code",
      "source": [
        "prediction=model.predict(input_img_reshape)\n",
        "print(prediction)"
      ],
      "metadata": {
        "colab": {
          "base_uri": "https://localhost:8080/"
        },
        "id": "V-K-3VvLPJvB",
        "outputId": "c9cb4bc9-ae6a-4938-895a-3e1d34b0154d"
      },
      "execution_count": 87,
      "outputs": [
        {
          "output_type": "stream",
          "name": "stdout",
          "text": [
            "1/1 [==============================] - 0s 39ms/step\n",
            "[[3.7226316e-10 5.3582103e-09 9.8827036e-07 1.0000000e+00 9.8861260e-18\n",
            "  1.2096129e-02 2.7182998e-17 1.6073065e-01 4.2561484e-03 9.2479241e-01]]\n"
          ]
        }
      ]
    },
    {
      "cell_type": "code",
      "source": [
        "prediction_label=np.argmax(prediction)"
      ],
      "metadata": {
        "id": "ov75TUrpPv9_"
      },
      "execution_count": 88,
      "outputs": []
    },
    {
      "cell_type": "code",
      "source": [
        "print(prediction_label)"
      ],
      "metadata": {
        "colab": {
          "base_uri": "https://localhost:8080/"
        },
        "id": "-seoH6u9P2rE",
        "outputId": "7a46b15c-f4d1-476f-9f34-5a2bb84fa6d9"
      },
      "execution_count": 89,
      "outputs": [
        {
          "output_type": "stream",
          "name": "stdout",
          "text": [
            "3\n"
          ]
        }
      ]
    },
    {
      "source": [
        "input_path_str = input(\"Path of the Image : \")\n",
        "\n",
        "input_img = cv2.imread(input_path_str)\n",
        "\n",
        "grayscale = cv2.cvtColor(input_img, cv2.COLOR_RGB2GRAY)\n",
        "\n",
        "input_img_resize = cv2.resize(grayscale, (28, 28))\n",
        "\n",
        "input_img_resize = input_img_resize / 255\n",
        "\n",
        "input_img_reshape = np.reshape(input_img_resize, (1, 28, 28))\n",
        "\n",
        "prediction = model.predict(input_img_reshape)\n",
        "\n",
        "prediction_label = np.argmax(prediction)\n",
        "\n",
        "print(prediction_label)"
      ],
      "cell_type": "code",
      "metadata": {
        "colab": {
          "base_uri": "https://localhost:8080/"
        },
        "id": "oDib1uCxUyeN",
        "outputId": "bc6cdf22-2760-48da-9bed-998e75da9bc6"
      },
      "execution_count": 101,
      "outputs": [
        {
          "output_type": "stream",
          "name": "stdout",
          "text": [
            "Path of the Image : /content/MNIST_digit.png\n",
            "1/1 [==============================] - 0s 28ms/step\n",
            "3\n"
          ]
        }
      ]
    }
  ]
}